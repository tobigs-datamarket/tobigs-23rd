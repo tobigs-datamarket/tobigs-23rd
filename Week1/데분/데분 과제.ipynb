{
  "cells": [
    {
      "cell_type": "markdown",
      "source": [
        "## *데분 과제1*"
      ],
      "metadata": {
        "id": "Ye-nxz9PF566"
      }
    },
    {
      "cell_type": "code",
      "source": [
        "import pandas as pd"
      ],
      "metadata": {
        "id": "RlT1_AgQF4Ap"
      },
      "execution_count": 1,
      "outputs": []
    },
    {
      "cell_type": "code",
      "source": [
        "import numpy as np"
      ],
      "metadata": {
        "id": "9svAFg8bF4PU"
      },
      "execution_count": null,
      "outputs": []
    }
  ],
  "metadata": {
    "colab": {
      "name": "Colaboratory에 오신 것을 환영합니다",
      "toc_visible": true,
      "provenance": []
    },
    "kernelspec": {
      "display_name": "Python 3",
      "name": "python3"
    }
  },
  "nbformat": 4,
  "nbformat_minor": 0
}