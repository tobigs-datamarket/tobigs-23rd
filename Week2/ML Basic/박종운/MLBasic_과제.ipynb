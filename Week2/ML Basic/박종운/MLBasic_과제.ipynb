{
  "cells": [
    {
      "cell_type": "markdown",
      "metadata": {
        "id": "HdK1T-1d-NJi"
      },
      "source": [
        "# **2주차 1교시 ML 기초 과제**\n",
        "Q1. Hyperparameter Tuning\n",
        "\n",
        "Q2. airline passenger satisfaction survey 분석하기\n"
      ]
    },
    {
      "cell_type": "markdown",
      "metadata": {
        "id": "6l9AsCfhgNut"
      },
      "source": [
        "## **Q1. Hyperparameter Tuning**\n",
        "\n",
        "- 아래 코드는 SVM(Support Vector Machine) 모델을 사용하여 분류와 회귀 문제를 해결하며, Grid Search, Random Search, Bayesian Search를 활용하여 Hyperparameter Tuning을 수행합니다.\n",
        "\n",
        "  - 참고 사항\n",
        "    - SVM의 하이퍼파라미터는 c와 kernel입니다.\n",
        "    - C: SVM 모델이 오류를 얼마나 허용할 것인지 결정합니다. C값이 클수록 오류를 허용하지 않는 Hard Margin, 작을수록 오류를 허용하는 Soft Margin이 적용됩니다. 이때, C값이 너무 크면 overfitting, 너무 작으면 underfitting이 발생할 수 있으므로 Hyperparameter Tuning을 통해 적절한 값을 찾아야 합니다.\n",
        "    - kernel: 데이터 셋의 형태에 따라 다르게 정해주어야 합니다. 선형 데이터셋의 경우 'linear'를, 비선형 데이터셋은 'poly', 'rbf'을 주로 사용합니다. 이 또한, Hyperparameter Tuning을 통해 최적의 kernel을 찾아주는 것이 좋습니다."
      ]
    },
    {
      "cell_type": "markdown",
      "metadata": {
        "id": "2YdbgvnNTm56"
      },
      "source": [
        "**Data prepration**"
      ]
    },
    {
      "cell_type": "code",
      "execution_count": 1,
      "metadata": {
        "id": "hbtR8VN7-llM"
      },
      "outputs": [],
      "source": [
        "from sklearn.model_selection import train_test_split\n",
        "from sklearn.datasets import make_classification, make_regression\n",
        "from sklearn.svm import SVC, SVR\n",
        "from sklearn.metrics import accuracy_score, mean_squared_error\n",
        "import numpy as np\n",
        "\n",
        "# synthetic data for classification\n",
        "X_cls, y_cls = make_classification(n_samples=1000, n_features=20, random_state=123)\n",
        "X_cls_train, X_cls_test, y_cls_train, y_cls_test = train_test_split(X_cls, y_cls, test_size=0.2, random_state=42)\n",
        "\n",
        "# synthetic data for regression\n",
        "X_reg, y_reg = make_regression(n_samples=1000, n_features=20, noise=0.1, random_state=123)\n",
        "X_reg_train, X_reg_test, y_reg_train, y_reg_test = train_test_split(X_reg, y_reg, test_size=0.2, random_state=42)"
      ]
    },
    {
      "cell_type": "markdown",
      "metadata": {
        "id": "MzPDuq1zbvVN"
      },
      "source": [
        "📌 Q1-1.\n",
        "* classification 관련 코드를 참고하여 regression 부분의 각 빈칸을 채워주세요."
      ]
    },
    {
      "cell_type": "markdown",
      "metadata": {
        "id": "InsVxQYZT_lF"
      },
      "source": [
        "**1) Grid Search**\n",
        "* 참고: https://scikit-learn.org/stable/modules/generated/sklearn.model_selection.GridSearchCV.html"
      ]
    },
    {
      "cell_type": "code",
      "execution_count": 2,
      "metadata": {
        "colab": {
          "base_uri": "https://localhost:8080/"
        },
        "id": "Gohram6fTvsx",
        "outputId": "e4925536-b4e2-446b-ee7d-02896e4fdd6e"
      },
      "outputs": [
        {
          "output_type": "stream",
          "name": "stdout",
          "text": [
            "Best parameters (classification): {'C': 1, 'kernel': 'rbf'}\n",
            "Classification Accuracy: 0.995\n"
          ]
        }
      ],
      "source": [
        "from sklearn.model_selection import GridSearchCV\n",
        "\n",
        "# Grid Search for Classification\n",
        "param_grid_cls = {'C': [0.1, 1, 10], 'kernel': ['linear', 'rbf']}\n",
        "\n",
        "grid_cls = GridSearchCV(\n",
        "    estimator=SVC(),\n",
        "    param_grid=param_grid_cls,\n",
        "    cv=3\n",
        ")\n",
        "\n",
        "grid_cls.fit(X_cls_train, y_cls_train)\n",
        "best_cls = grid_cls.best_estimator_\n",
        "print(\"Best parameters (classification):\", grid_cls.best_params_)\n",
        "\n",
        "y_cls_pred = best_cls.predict(X_cls_test)\n",
        "print(\"Classification Accuracy:\", accuracy_score(y_cls_test, y_cls_pred))"
      ]
    },
    {
      "cell_type": "code",
      "execution_count": 3,
      "metadata": {
        "colab": {
          "base_uri": "https://localhost:8080/"
        },
        "id": "uyojXRQQTy0z",
        "outputId": "af754edb-3930-4834-b37c-8d3c70e2ae1d"
      },
      "outputs": [
        {
          "output_type": "stream",
          "name": "stdout",
          "text": [
            "Best parameters (regression): {'C': 10, 'kernel': 'linear'}\n",
            "Regression MSE: 0.009701651755310734\n"
          ]
        }
      ],
      "source": [
        "# Grid Search for Regression\n",
        "param_grid_reg = {'C': [0.1, 1, 10], 'kernel': ['linear', 'rbf']}\n",
        "\n",
        "grid_reg = GridSearchCV(\n",
        "    estimator=SVR(),\n",
        "    param_grid=param_grid_reg,\n",
        "    cv=3\n",
        ")\n",
        "\n",
        "grid_reg.fit(X_reg_train, y_reg_train)\n",
        "best_reg = grid_reg.best_estimator_\n",
        "print(\"Best parameters (regression):\", grid_reg.best_params_)\n",
        "\n",
        "y_reg_pred = best_reg.predict(X_reg_test)\n",
        "print(\"Regression MSE:\", mean_squared_error(y_reg_test, y_reg_pred))\n"
      ]
    },
    {
      "cell_type": "markdown",
      "metadata": {
        "id": "IcfjPwTUT8qp"
      },
      "source": [
        "**2) Random Search**\n",
        "* 참고: https://scikit-learn.org/stable/modules/generated/sklearn.model_selection.RandomizedSearchCV.html"
      ]
    },
    {
      "cell_type": "code",
      "execution_count": 4,
      "metadata": {
        "colab": {
          "base_uri": "https://localhost:8080/"
        },
        "id": "RkF3KJtnT4pL",
        "outputId": "0faa0180-4a87-4693-d509-6bdda8d432c1"
      },
      "outputs": [
        {
          "output_type": "stream",
          "name": "stdout",
          "text": [
            "Best parameters (classification): {'kernel': 'rbf', 'C': 2.154434690031882}\n",
            "Classification Accuracy: 0.985\n"
          ]
        }
      ],
      "source": [
        "from sklearn.model_selection import RandomizedSearchCV\n",
        "\n",
        "# Random Search for Classification\n",
        "param_dist_cls = {'C': np.logspace(-3, 3, 10), 'kernel': ['linear', 'rbf']}\n",
        "\n",
        "random_cls = RandomizedSearchCV(\n",
        "    estimator=SVC(),\n",
        "    param_distributions=param_dist_cls,\n",
        "    n_iter=10,\n",
        "    cv=3,\n",
        "    random_state=42\n",
        ")\n",
        "\n",
        "random_cls.fit(X_cls_train, y_cls_train)\n",
        "best_cls = random_cls.best_estimator_\n",
        "print(\"Best parameters (classification):\", random_cls.best_params_)\n",
        "\n",
        "y_cls_pred = best_cls.predict(X_cls_test)\n",
        "print(\"Classification Accuracy:\", accuracy_score(y_cls_test, y_cls_pred))"
      ]
    },
    {
      "cell_type": "code",
      "execution_count": 5,
      "metadata": {
        "colab": {
          "base_uri": "https://localhost:8080/"
        },
        "id": "8B-mXKF4T7Eu",
        "outputId": "b7a977a7-c237-46ef-d7ce-e577ce1c83be"
      },
      "outputs": [
        {
          "output_type": "stream",
          "name": "stdout",
          "text": [
            "Best parameters (regression): {'kernel': 'linear', 'C': 1000.0}\n",
            "Regression MSE: 0.00980210059737592\n"
          ]
        }
      ],
      "source": [
        "# Random Search for Regression\n",
        "param_dist_reg = {'C': np.logspace(-3, 3, 10), 'kernel': ['linear', 'rbf']}\n",
        "\n",
        "random_reg = RandomizedSearchCV(\n",
        "    estimator=SVR(),\n",
        "    param_distributions=param_dist_reg,\n",
        "    n_iter=10,\n",
        "    cv=3,\n",
        "    random_state=42\n",
        ")\n",
        "\n",
        "random_reg.fit(X_reg_train, y_reg_train)\n",
        "best_reg = random_reg.best_estimator_\n",
        "\n",
        "print(\"Best parameters (regression):\", random_reg.best_params_)\n",
        "y_reg_pred = best_reg.predict(X_reg_test)\n",
        "print(\"Regression MSE:\", mean_squared_error(y_reg_test, y_reg_pred))\n"
      ]
    },
    {
      "cell_type": "markdown",
      "metadata": {
        "id": "Wj04LVeWUDFy"
      },
      "source": [
        "**3) Bayesian Search**\n",
        "* 참고: https://scikit-optimize.github.io/stable/modules/generated/skopt.BayesSearchCV.html#skopt.BayesSearchCV"
      ]
    },
    {
      "cell_type": "code",
      "execution_count": 6,
      "metadata": {
        "colab": {
          "base_uri": "https://localhost:8080/"
        },
        "id": "kNbYdxrWXLcd",
        "outputId": "593c8f5e-4e00-444e-96bf-8e0ef7e97022"
      },
      "outputs": [
        {
          "output_type": "stream",
          "name": "stdout",
          "text": [
            "Collecting scikit-optimize\n",
            "  Downloading scikit_optimize-0.10.2-py2.py3-none-any.whl.metadata (9.7 kB)\n",
            "Requirement already satisfied: joblib>=0.11 in /usr/local/lib/python3.11/dist-packages (from scikit-optimize) (1.4.2)\n",
            "Collecting pyaml>=16.9 (from scikit-optimize)\n",
            "  Downloading pyaml-25.1.0-py3-none-any.whl.metadata (12 kB)\n",
            "Requirement already satisfied: numpy>=1.20.3 in /usr/local/lib/python3.11/dist-packages (from scikit-optimize) (1.26.4)\n",
            "Requirement already satisfied: scipy>=1.1.0 in /usr/local/lib/python3.11/dist-packages (from scikit-optimize) (1.13.1)\n",
            "Requirement already satisfied: scikit-learn>=1.0.0 in /usr/local/lib/python3.11/dist-packages (from scikit-optimize) (1.6.1)\n",
            "Requirement already satisfied: packaging>=21.3 in /usr/local/lib/python3.11/dist-packages (from scikit-optimize) (24.2)\n",
            "Requirement already satisfied: PyYAML in /usr/local/lib/python3.11/dist-packages (from pyaml>=16.9->scikit-optimize) (6.0.2)\n",
            "Requirement already satisfied: threadpoolctl>=3.1.0 in /usr/local/lib/python3.11/dist-packages (from scikit-learn>=1.0.0->scikit-optimize) (3.5.0)\n",
            "Downloading scikit_optimize-0.10.2-py2.py3-none-any.whl (107 kB)\n",
            "\u001b[?25l   \u001b[90m━━━━━━━━━━━━━━━━━━━━━━━━━━━━━━━━━━━━━━━━\u001b[0m \u001b[32m0.0/107.8 kB\u001b[0m \u001b[31m?\u001b[0m eta \u001b[36m-:--:--\u001b[0m\r\u001b[2K   \u001b[90m━━━━━━━━━━━━━━━━━━━━━━━━━━━━━━━━━━━━━━━━\u001b[0m \u001b[32m107.8/107.8 kB\u001b[0m \u001b[31m3.2 MB/s\u001b[0m eta \u001b[36m0:00:00\u001b[0m\n",
            "\u001b[?25hDownloading pyaml-25.1.0-py3-none-any.whl (26 kB)\n",
            "Installing collected packages: pyaml, scikit-optimize\n",
            "Successfully installed pyaml-25.1.0 scikit-optimize-0.10.2\n"
          ]
        }
      ],
      "source": [
        "!pip install scikit-optimize"
      ]
    },
    {
      "cell_type": "code",
      "execution_count": 7,
      "metadata": {
        "colab": {
          "base_uri": "https://localhost:8080/"
        },
        "id": "otQZ8MuSUGv6",
        "outputId": "bb72347e-0d19-41a5-f1cb-2f7bfe837705"
      },
      "outputs": [
        {
          "output_type": "stream",
          "name": "stdout",
          "text": [
            "Best parameters (classification): OrderedDict([('C', 5.0405293861834055), ('kernel', 'rbf')])\n",
            "Classification Accuracy: 0.98\n"
          ]
        }
      ],
      "source": [
        "from skopt import BayesSearchCV\n",
        "from skopt.space import Real, Categorical\n",
        "\n",
        "\n",
        "# Bayesian Search for Classification\n",
        "param_space_cls = {\n",
        "    'C': Real(1e-3, 1e3, prior='log-uniform'),\n",
        "    'kernel': Categorical(['linear', 'rbf']),\n",
        "}\n",
        "\n",
        "bayes_cls = BayesSearchCV(\n",
        "    estimator=SVC(),\n",
        "    search_spaces=param_space_cls,\n",
        "    n_iter=20,\n",
        "    cv=3,\n",
        "    random_state=42\n",
        ")\n",
        "bayes_cls.fit(X_cls_train, y_cls_train)\n",
        "\n",
        "print(\"Best parameters (classification):\", bayes_cls.best_params_)\n",
        "y_cls_pred = bayes_cls.best_estimator_.predict(X_cls_test)\n",
        "print(\"Classification Accuracy:\", accuracy_score(y_cls_test, y_cls_pred))"
      ]
    },
    {
      "cell_type": "code",
      "execution_count": 8,
      "metadata": {
        "colab": {
          "base_uri": "https://localhost:8080/"
        },
        "id": "WqmWF0WNUJT_",
        "outputId": "a63965fe-5b49-469e-9425-85d9a6d02bc1"
      },
      "outputs": [
        {
          "output_type": "stream",
          "name": "stdout",
          "text": [
            "Best parameters (regression): OrderedDict([('C', 62.7076678988192), ('kernel', 'linear')])\n",
            "Regression MSE: 0.00977475238804102\n"
          ]
        }
      ],
      "source": [
        "# Bayesian Search for Regression\n",
        "param_space_reg = {\n",
        "    'C': Real(1e-3, 1e3, prior='log-uniform'),\n",
        "    'kernel': Categorical(['linear', 'rbf']),\n",
        "}\n",
        "\n",
        "bayes_reg = BayesSearchCV(\n",
        "    estimator=SVR(),\n",
        "    search_spaces=param_space_reg,\n",
        "    n_iter=10,\n",
        "    cv=3,\n",
        "    random_state=42\n",
        ")\n",
        "bayes_reg.fit(X_reg_train, y_reg_train)\n",
        "\n",
        "print(\"Best parameters (regression):\", bayes_reg.best_params_)\n",
        "y_reg_pred = bayes_reg.best_estimator_.predict(X_reg_test)\n",
        "print(\"Regression MSE:\", mean_squared_error(y_reg_test, y_reg_pred))\n"
      ]
    },
    {
      "cell_type": "markdown",
      "metadata": {
        "id": "5GHU3aPVePT_"
      },
      "source": [
        "📌 Q1-2. 세 가지 하이퍼파라미터 튜닝 방법의 결과가 동일하게 나왔는지 확인하고, 만약 다르다면 어떤 점에서 차이가 있었는지 서술하세요. 또한, 실행 시간과 성능 등을 고려했을 때 가장 효과적인 방법이 무엇인지 적어주세요.\n",
        "\n",
        "추가적으로, 각 방법의 특징과 원리를 설명하고, 장단점을 비교하여 정리해 주셔도 좋습니다!"
      ]
    },
    {
      "cell_type": "markdown",
      "metadata": {
        "id": "wziE8s-DKVnB"
      },
      "source": [
        "답안: 세 가지 하이퍼파라미터 튜닝 방법은 분류와 회귀 모두 비슷한 성능을 보이지만, 최적 파라미터는 서로 다르게 도출된다.\n",
        "Grid Search는 모든 조합을 평가하여 신뢰도가 높지만, 계산 비용과 실행 시간이 많이 소요된다.\n",
        "Random Search는 임의의 조합을 평가하여 빠르게 결과를 얻을 수 있으나, 최적값 보장이 어렵다.\n",
        "Bayesian Search는 이전 평가 결과를 바탕으로 유망한 영역을 집중 탐색하여 효율적으로 좋은 결과를 도출한다.\n",
        "실행 시간과 성능을 고려하면, 특히 파라미터 공간이 넓을 때 Bayesian Search가 가장 효과적인 방법이다.\n",
        "문제의 특성과 자원 상황에 따라 각 방법의 장단점을 고려하여 적절한 방법을 선택하는 것이 중요하다."
      ]
    },
    {
      "cell_type": "markdown",
      "metadata": {
        "id": "SdsUxm8FZ5EU"
      },
      "source": [
        "## **Q2. airline passenger satisfaction survey 분석하기**\n",
        "\n",
        "- 아래 코드는 'airline passenger satisfaction survey' dataset을 분석하고, Random Froest 모델을 학습시켜 성능을 평가합니다.\n",
        "- 세션에서 배운 Normalization, Cross-validation, Confusion Matrix 등의 개념이 포함되어 있습니다.\n",
        "- 과정을 천천히 따라오면서 답안을 작성해주세요!"
      ]
    },
    {
      "cell_type": "markdown",
      "metadata": {
        "id": "ptVAH_K1aMBj"
      },
      "source": [
        "**1) Data description**"
      ]
    },
    {
      "cell_type": "code",
      "execution_count": 1,
      "metadata": {
        "id": "FGi_G99ZaLV0"
      },
      "outputs": [],
      "source": [
        "import seaborn as sns\n",
        "import matplotlib.pyplot as plt\n",
        "import pandas as pd\n",
        "import numpy as np\n",
        "from sklearn.preprocessing import LabelEncoder, OneHotEncoder, StandardScaler\n",
        "from sklearn.model_selection import train_test_split\n",
        "from sklearn.impute import SimpleImputer\n",
        "from sklearn.svm import SVC\n",
        "from sklearn.metrics import accuracy_score, confusion_matrix, classification_report, ConfusionMatrixDisplay, roc_curve, roc_auc_score\n",
        "import numpy as np\n",
        "from sklearn.model_selection import GridSearchCV\n",
        "from sklearn.feature_selection import RFECV\n",
        "from sklearn.linear_model import LogisticRegression\n",
        "from sklearn.tree import DecisionTreeClassifier\n",
        "from sklearn.model_selection import cross_val_score, KFold\n",
        "from sklearn.ensemble import RandomForestClassifier"
      ]
    },
    {
      "cell_type": "code",
      "execution_count": 2,
      "metadata": {
        "colab": {
          "base_uri": "https://localhost:8080/",
          "height": 394
        },
        "id": "O7Bx7IHzal1T",
        "outputId": "3ffde77c-013d-4cbd-f7e3-20e34958d47d"
      },
      "outputs": [
        {
          "output_type": "execute_result",
          "data": {
            "text/plain": [
              "   Unnamed: 0      id  Gender      Customer Type  Age   Type of Travel  \\\n",
              "0           0   70172    Male     Loyal Customer   13  Personal Travel   \n",
              "1           1    5047    Male  disloyal Customer   25  Business travel   \n",
              "2           2  110028  Female     Loyal Customer   26  Business travel   \n",
              "3           3   24026  Female     Loyal Customer   25  Business travel   \n",
              "4           4  119299    Male     Loyal Customer   61  Business travel   \n",
              "\n",
              "      Class  Flight Distance  Inflight wifi service  \\\n",
              "0  Eco Plus              460                      3   \n",
              "1  Business              235                      3   \n",
              "2  Business             1142                      2   \n",
              "3  Business              562                      2   \n",
              "4  Business              214                      3   \n",
              "\n",
              "   Departure/Arrival time convenient  ...  Inflight entertainment  \\\n",
              "0                                  4  ...                       5   \n",
              "1                                  2  ...                       1   \n",
              "2                                  2  ...                       5   \n",
              "3                                  5  ...                       2   \n",
              "4                                  3  ...                       3   \n",
              "\n",
              "   On-board service  Leg room service  Baggage handling  Checkin service  \\\n",
              "0                 4                 3                 4                4   \n",
              "1                 1                 5                 3                1   \n",
              "2                 4                 3                 4                4   \n",
              "3                 2                 5                 3                1   \n",
              "4                 3                 4                 4                3   \n",
              "\n",
              "   Inflight service  Cleanliness  Departure Delay in Minutes  \\\n",
              "0                 5            5                          25   \n",
              "1                 4            1                           1   \n",
              "2                 4            5                           0   \n",
              "3                 4            2                          11   \n",
              "4                 3            3                           0   \n",
              "\n",
              "   Arrival Delay in Minutes             satisfaction  \n",
              "0                      18.0  neutral or dissatisfied  \n",
              "1                       6.0  neutral or dissatisfied  \n",
              "2                       0.0                satisfied  \n",
              "3                       9.0  neutral or dissatisfied  \n",
              "4                       0.0                satisfied  \n",
              "\n",
              "[5 rows x 25 columns]"
            ],
            "text/html": [
              "\n",
              "  <div id=\"df-a616d905-bea0-421e-a823-86e3a438fbf4\" class=\"colab-df-container\">\n",
              "    <div>\n",
              "<style scoped>\n",
              "    .dataframe tbody tr th:only-of-type {\n",
              "        vertical-align: middle;\n",
              "    }\n",
              "\n",
              "    .dataframe tbody tr th {\n",
              "        vertical-align: top;\n",
              "    }\n",
              "\n",
              "    .dataframe thead th {\n",
              "        text-align: right;\n",
              "    }\n",
              "</style>\n",
              "<table border=\"1\" class=\"dataframe\">\n",
              "  <thead>\n",
              "    <tr style=\"text-align: right;\">\n",
              "      <th></th>\n",
              "      <th>Unnamed: 0</th>\n",
              "      <th>id</th>\n",
              "      <th>Gender</th>\n",
              "      <th>Customer Type</th>\n",
              "      <th>Age</th>\n",
              "      <th>Type of Travel</th>\n",
              "      <th>Class</th>\n",
              "      <th>Flight Distance</th>\n",
              "      <th>Inflight wifi service</th>\n",
              "      <th>Departure/Arrival time convenient</th>\n",
              "      <th>...</th>\n",
              "      <th>Inflight entertainment</th>\n",
              "      <th>On-board service</th>\n",
              "      <th>Leg room service</th>\n",
              "      <th>Baggage handling</th>\n",
              "      <th>Checkin service</th>\n",
              "      <th>Inflight service</th>\n",
              "      <th>Cleanliness</th>\n",
              "      <th>Departure Delay in Minutes</th>\n",
              "      <th>Arrival Delay in Minutes</th>\n",
              "      <th>satisfaction</th>\n",
              "    </tr>\n",
              "  </thead>\n",
              "  <tbody>\n",
              "    <tr>\n",
              "      <th>0</th>\n",
              "      <td>0</td>\n",
              "      <td>70172</td>\n",
              "      <td>Male</td>\n",
              "      <td>Loyal Customer</td>\n",
              "      <td>13</td>\n",
              "      <td>Personal Travel</td>\n",
              "      <td>Eco Plus</td>\n",
              "      <td>460</td>\n",
              "      <td>3</td>\n",
              "      <td>4</td>\n",
              "      <td>...</td>\n",
              "      <td>5</td>\n",
              "      <td>4</td>\n",
              "      <td>3</td>\n",
              "      <td>4</td>\n",
              "      <td>4</td>\n",
              "      <td>5</td>\n",
              "      <td>5</td>\n",
              "      <td>25</td>\n",
              "      <td>18.0</td>\n",
              "      <td>neutral or dissatisfied</td>\n",
              "    </tr>\n",
              "    <tr>\n",
              "      <th>1</th>\n",
              "      <td>1</td>\n",
              "      <td>5047</td>\n",
              "      <td>Male</td>\n",
              "      <td>disloyal Customer</td>\n",
              "      <td>25</td>\n",
              "      <td>Business travel</td>\n",
              "      <td>Business</td>\n",
              "      <td>235</td>\n",
              "      <td>3</td>\n",
              "      <td>2</td>\n",
              "      <td>...</td>\n",
              "      <td>1</td>\n",
              "      <td>1</td>\n",
              "      <td>5</td>\n",
              "      <td>3</td>\n",
              "      <td>1</td>\n",
              "      <td>4</td>\n",
              "      <td>1</td>\n",
              "      <td>1</td>\n",
              "      <td>6.0</td>\n",
              "      <td>neutral or dissatisfied</td>\n",
              "    </tr>\n",
              "    <tr>\n",
              "      <th>2</th>\n",
              "      <td>2</td>\n",
              "      <td>110028</td>\n",
              "      <td>Female</td>\n",
              "      <td>Loyal Customer</td>\n",
              "      <td>26</td>\n",
              "      <td>Business travel</td>\n",
              "      <td>Business</td>\n",
              "      <td>1142</td>\n",
              "      <td>2</td>\n",
              "      <td>2</td>\n",
              "      <td>...</td>\n",
              "      <td>5</td>\n",
              "      <td>4</td>\n",
              "      <td>3</td>\n",
              "      <td>4</td>\n",
              "      <td>4</td>\n",
              "      <td>4</td>\n",
              "      <td>5</td>\n",
              "      <td>0</td>\n",
              "      <td>0.0</td>\n",
              "      <td>satisfied</td>\n",
              "    </tr>\n",
              "    <tr>\n",
              "      <th>3</th>\n",
              "      <td>3</td>\n",
              "      <td>24026</td>\n",
              "      <td>Female</td>\n",
              "      <td>Loyal Customer</td>\n",
              "      <td>25</td>\n",
              "      <td>Business travel</td>\n",
              "      <td>Business</td>\n",
              "      <td>562</td>\n",
              "      <td>2</td>\n",
              "      <td>5</td>\n",
              "      <td>...</td>\n",
              "      <td>2</td>\n",
              "      <td>2</td>\n",
              "      <td>5</td>\n",
              "      <td>3</td>\n",
              "      <td>1</td>\n",
              "      <td>4</td>\n",
              "      <td>2</td>\n",
              "      <td>11</td>\n",
              "      <td>9.0</td>\n",
              "      <td>neutral or dissatisfied</td>\n",
              "    </tr>\n",
              "    <tr>\n",
              "      <th>4</th>\n",
              "      <td>4</td>\n",
              "      <td>119299</td>\n",
              "      <td>Male</td>\n",
              "      <td>Loyal Customer</td>\n",
              "      <td>61</td>\n",
              "      <td>Business travel</td>\n",
              "      <td>Business</td>\n",
              "      <td>214</td>\n",
              "      <td>3</td>\n",
              "      <td>3</td>\n",
              "      <td>...</td>\n",
              "      <td>3</td>\n",
              "      <td>3</td>\n",
              "      <td>4</td>\n",
              "      <td>4</td>\n",
              "      <td>3</td>\n",
              "      <td>3</td>\n",
              "      <td>3</td>\n",
              "      <td>0</td>\n",
              "      <td>0.0</td>\n",
              "      <td>satisfied</td>\n",
              "    </tr>\n",
              "  </tbody>\n",
              "</table>\n",
              "<p>5 rows × 25 columns</p>\n",
              "</div>\n",
              "    <div class=\"colab-df-buttons\">\n",
              "\n",
              "  <div class=\"colab-df-container\">\n",
              "    <button class=\"colab-df-convert\" onclick=\"convertToInteractive('df-a616d905-bea0-421e-a823-86e3a438fbf4')\"\n",
              "            title=\"Convert this dataframe to an interactive table.\"\n",
              "            style=\"display:none;\">\n",
              "\n",
              "  <svg xmlns=\"http://www.w3.org/2000/svg\" height=\"24px\" viewBox=\"0 -960 960 960\">\n",
              "    <path d=\"M120-120v-720h720v720H120Zm60-500h600v-160H180v160Zm220 220h160v-160H400v160Zm0 220h160v-160H400v160ZM180-400h160v-160H180v160Zm440 0h160v-160H620v160ZM180-180h160v-160H180v160Zm440 0h160v-160H620v160Z\"/>\n",
              "  </svg>\n",
              "    </button>\n",
              "\n",
              "  <style>\n",
              "    .colab-df-container {\n",
              "      display:flex;\n",
              "      gap: 12px;\n",
              "    }\n",
              "\n",
              "    .colab-df-convert {\n",
              "      background-color: #E8F0FE;\n",
              "      border: none;\n",
              "      border-radius: 50%;\n",
              "      cursor: pointer;\n",
              "      display: none;\n",
              "      fill: #1967D2;\n",
              "      height: 32px;\n",
              "      padding: 0 0 0 0;\n",
              "      width: 32px;\n",
              "    }\n",
              "\n",
              "    .colab-df-convert:hover {\n",
              "      background-color: #E2EBFA;\n",
              "      box-shadow: 0px 1px 2px rgba(60, 64, 67, 0.3), 0px 1px 3px 1px rgba(60, 64, 67, 0.15);\n",
              "      fill: #174EA6;\n",
              "    }\n",
              "\n",
              "    .colab-df-buttons div {\n",
              "      margin-bottom: 4px;\n",
              "    }\n",
              "\n",
              "    [theme=dark] .colab-df-convert {\n",
              "      background-color: #3B4455;\n",
              "      fill: #D2E3FC;\n",
              "    }\n",
              "\n",
              "    [theme=dark] .colab-df-convert:hover {\n",
              "      background-color: #434B5C;\n",
              "      box-shadow: 0px 1px 3px 1px rgba(0, 0, 0, 0.15);\n",
              "      filter: drop-shadow(0px 1px 2px rgba(0, 0, 0, 0.3));\n",
              "      fill: #FFFFFF;\n",
              "    }\n",
              "  </style>\n",
              "\n",
              "    <script>\n",
              "      const buttonEl =\n",
              "        document.querySelector('#df-a616d905-bea0-421e-a823-86e3a438fbf4 button.colab-df-convert');\n",
              "      buttonEl.style.display =\n",
              "        google.colab.kernel.accessAllowed ? 'block' : 'none';\n",
              "\n",
              "      async function convertToInteractive(key) {\n",
              "        const element = document.querySelector('#df-a616d905-bea0-421e-a823-86e3a438fbf4');\n",
              "        const dataTable =\n",
              "          await google.colab.kernel.invokeFunction('convertToInteractive',\n",
              "                                                    [key], {});\n",
              "        if (!dataTable) return;\n",
              "\n",
              "        const docLinkHtml = 'Like what you see? Visit the ' +\n",
              "          '<a target=\"_blank\" href=https://colab.research.google.com/notebooks/data_table.ipynb>data table notebook</a>'\n",
              "          + ' to learn more about interactive tables.';\n",
              "        element.innerHTML = '';\n",
              "        dataTable['output_type'] = 'display_data';\n",
              "        await google.colab.output.renderOutput(dataTable, element);\n",
              "        const docLink = document.createElement('div');\n",
              "        docLink.innerHTML = docLinkHtml;\n",
              "        element.appendChild(docLink);\n",
              "      }\n",
              "    </script>\n",
              "  </div>\n",
              "\n",
              "\n",
              "<div id=\"df-0aa7c237-e124-41ec-a589-293e59f7c834\">\n",
              "  <button class=\"colab-df-quickchart\" onclick=\"quickchart('df-0aa7c237-e124-41ec-a589-293e59f7c834')\"\n",
              "            title=\"Suggest charts\"\n",
              "            style=\"display:none;\">\n",
              "\n",
              "<svg xmlns=\"http://www.w3.org/2000/svg\" height=\"24px\"viewBox=\"0 0 24 24\"\n",
              "     width=\"24px\">\n",
              "    <g>\n",
              "        <path d=\"M19 3H5c-1.1 0-2 .9-2 2v14c0 1.1.9 2 2 2h14c1.1 0 2-.9 2-2V5c0-1.1-.9-2-2-2zM9 17H7v-7h2v7zm4 0h-2V7h2v10zm4 0h-2v-4h2v4z\"/>\n",
              "    </g>\n",
              "</svg>\n",
              "  </button>\n",
              "\n",
              "<style>\n",
              "  .colab-df-quickchart {\n",
              "      --bg-color: #E8F0FE;\n",
              "      --fill-color: #1967D2;\n",
              "      --hover-bg-color: #E2EBFA;\n",
              "      --hover-fill-color: #174EA6;\n",
              "      --disabled-fill-color: #AAA;\n",
              "      --disabled-bg-color: #DDD;\n",
              "  }\n",
              "\n",
              "  [theme=dark] .colab-df-quickchart {\n",
              "      --bg-color: #3B4455;\n",
              "      --fill-color: #D2E3FC;\n",
              "      --hover-bg-color: #434B5C;\n",
              "      --hover-fill-color: #FFFFFF;\n",
              "      --disabled-bg-color: #3B4455;\n",
              "      --disabled-fill-color: #666;\n",
              "  }\n",
              "\n",
              "  .colab-df-quickchart {\n",
              "    background-color: var(--bg-color);\n",
              "    border: none;\n",
              "    border-radius: 50%;\n",
              "    cursor: pointer;\n",
              "    display: none;\n",
              "    fill: var(--fill-color);\n",
              "    height: 32px;\n",
              "    padding: 0;\n",
              "    width: 32px;\n",
              "  }\n",
              "\n",
              "  .colab-df-quickchart:hover {\n",
              "    background-color: var(--hover-bg-color);\n",
              "    box-shadow: 0 1px 2px rgba(60, 64, 67, 0.3), 0 1px 3px 1px rgba(60, 64, 67, 0.15);\n",
              "    fill: var(--button-hover-fill-color);\n",
              "  }\n",
              "\n",
              "  .colab-df-quickchart-complete:disabled,\n",
              "  .colab-df-quickchart-complete:disabled:hover {\n",
              "    background-color: var(--disabled-bg-color);\n",
              "    fill: var(--disabled-fill-color);\n",
              "    box-shadow: none;\n",
              "  }\n",
              "\n",
              "  .colab-df-spinner {\n",
              "    border: 2px solid var(--fill-color);\n",
              "    border-color: transparent;\n",
              "    border-bottom-color: var(--fill-color);\n",
              "    animation:\n",
              "      spin 1s steps(1) infinite;\n",
              "  }\n",
              "\n",
              "  @keyframes spin {\n",
              "    0% {\n",
              "      border-color: transparent;\n",
              "      border-bottom-color: var(--fill-color);\n",
              "      border-left-color: var(--fill-color);\n",
              "    }\n",
              "    20% {\n",
              "      border-color: transparent;\n",
              "      border-left-color: var(--fill-color);\n",
              "      border-top-color: var(--fill-color);\n",
              "    }\n",
              "    30% {\n",
              "      border-color: transparent;\n",
              "      border-left-color: var(--fill-color);\n",
              "      border-top-color: var(--fill-color);\n",
              "      border-right-color: var(--fill-color);\n",
              "    }\n",
              "    40% {\n",
              "      border-color: transparent;\n",
              "      border-right-color: var(--fill-color);\n",
              "      border-top-color: var(--fill-color);\n",
              "    }\n",
              "    60% {\n",
              "      border-color: transparent;\n",
              "      border-right-color: var(--fill-color);\n",
              "    }\n",
              "    80% {\n",
              "      border-color: transparent;\n",
              "      border-right-color: var(--fill-color);\n",
              "      border-bottom-color: var(--fill-color);\n",
              "    }\n",
              "    90% {\n",
              "      border-color: transparent;\n",
              "      border-bottom-color: var(--fill-color);\n",
              "    }\n",
              "  }\n",
              "</style>\n",
              "\n",
              "  <script>\n",
              "    async function quickchart(key) {\n",
              "      const quickchartButtonEl =\n",
              "        document.querySelector('#' + key + ' button');\n",
              "      quickchartButtonEl.disabled = true;  // To prevent multiple clicks.\n",
              "      quickchartButtonEl.classList.add('colab-df-spinner');\n",
              "      try {\n",
              "        const charts = await google.colab.kernel.invokeFunction(\n",
              "            'suggestCharts', [key], {});\n",
              "      } catch (error) {\n",
              "        console.error('Error during call to suggestCharts:', error);\n",
              "      }\n",
              "      quickchartButtonEl.classList.remove('colab-df-spinner');\n",
              "      quickchartButtonEl.classList.add('colab-df-quickchart-complete');\n",
              "    }\n",
              "    (() => {\n",
              "      let quickchartButtonEl =\n",
              "        document.querySelector('#df-0aa7c237-e124-41ec-a589-293e59f7c834 button');\n",
              "      quickchartButtonEl.style.display =\n",
              "        google.colab.kernel.accessAllowed ? 'block' : 'none';\n",
              "    })();\n",
              "  </script>\n",
              "</div>\n",
              "\n",
              "    </div>\n",
              "  </div>\n"
            ],
            "application/vnd.google.colaboratory.intrinsic+json": {
              "type": "dataframe",
              "variable_name": "data"
            }
          },
          "metadata": {},
          "execution_count": 2
        }
      ],
      "source": [
        "# 본인 데이터 저장 경로에 맞춰 수정하기\n",
        "\n",
        "data = pd.read_csv(\"/content/airline passenger satisfaction.csv\")\n",
        "data.head()"
      ]
    },
    {
      "cell_type": "code",
      "execution_count": 3,
      "metadata": {
        "colab": {
          "base_uri": "https://localhost:8080/"
        },
        "id": "VfAXe9u1abDE",
        "outputId": "89c01e1d-8469-4e98-917e-07c67cc19616"
      },
      "outputs": [
        {
          "output_type": "execute_result",
          "data": {
            "text/plain": [
              "(103904, 25)"
            ]
          },
          "metadata": {},
          "execution_count": 3
        }
      ],
      "source": [
        "data.shape"
      ]
    },
    {
      "cell_type": "code",
      "execution_count": 4,
      "metadata": {
        "colab": {
          "base_uri": "https://localhost:8080/"
        },
        "id": "LKm7wWJsd2Vg",
        "outputId": "2d6f6be5-de0b-4433-e100-e47006eb1227"
      },
      "outputs": [
        {
          "output_type": "execute_result",
          "data": {
            "text/plain": [
              "Index(['Unnamed: 0', 'id', 'Gender', 'Customer Type', 'Age', 'Type of Travel',\n",
              "       'Class', 'Flight Distance', 'Inflight wifi service',\n",
              "       'Departure/Arrival time convenient', 'Ease of Online booking',\n",
              "       'Gate location', 'Food and drink', 'Online boarding', 'Seat comfort',\n",
              "       'Inflight entertainment', 'On-board service', 'Leg room service',\n",
              "       'Baggage handling', 'Checkin service', 'Inflight service',\n",
              "       'Cleanliness', 'Departure Delay in Minutes', 'Arrival Delay in Minutes',\n",
              "       'satisfaction'],\n",
              "      dtype='object')"
            ]
          },
          "metadata": {},
          "execution_count": 4
        }
      ],
      "source": [
        "data.columns"
      ]
    },
    {
      "cell_type": "code",
      "execution_count": 5,
      "metadata": {
        "colab": {
          "base_uri": "https://localhost:8080/"
        },
        "id": "JmzzWRDTemRq",
        "outputId": "93ed62a2-e1ac-403f-9969-04a0dd9d9c28"
      },
      "outputs": [
        {
          "output_type": "stream",
          "name": "stdout",
          "text": [
            "<class 'pandas.core.frame.DataFrame'>\n",
            "RangeIndex: 103904 entries, 0 to 103903\n",
            "Data columns (total 25 columns):\n",
            " #   Column                             Non-Null Count   Dtype  \n",
            "---  ------                             --------------   -----  \n",
            " 0   Unnamed: 0                         103904 non-null  int64  \n",
            " 1   id                                 103904 non-null  int64  \n",
            " 2   Gender                             103904 non-null  object \n",
            " 3   Customer Type                      103904 non-null  object \n",
            " 4   Age                                103904 non-null  int64  \n",
            " 5   Type of Travel                     103904 non-null  object \n",
            " 6   Class                              103904 non-null  object \n",
            " 7   Flight Distance                    103904 non-null  int64  \n",
            " 8   Inflight wifi service              103904 non-null  int64  \n",
            " 9   Departure/Arrival time convenient  103904 non-null  int64  \n",
            " 10  Ease of Online booking             103904 non-null  int64  \n",
            " 11  Gate location                      103904 non-null  int64  \n",
            " 12  Food and drink                     103904 non-null  int64  \n",
            " 13  Online boarding                    103904 non-null  int64  \n",
            " 14  Seat comfort                       103904 non-null  int64  \n",
            " 15  Inflight entertainment             103904 non-null  int64  \n",
            " 16  On-board service                   103904 non-null  int64  \n",
            " 17  Leg room service                   103904 non-null  int64  \n",
            " 18  Baggage handling                   103904 non-null  int64  \n",
            " 19  Checkin service                    103904 non-null  int64  \n",
            " 20  Inflight service                   103904 non-null  int64  \n",
            " 21  Cleanliness                        103904 non-null  int64  \n",
            " 22  Departure Delay in Minutes         103904 non-null  int64  \n",
            " 23  Arrival Delay in Minutes           103594 non-null  float64\n",
            " 24  satisfaction                       103904 non-null  object \n",
            "dtypes: float64(1), int64(19), object(5)\n",
            "memory usage: 19.8+ MB\n"
          ]
        }
      ],
      "source": [
        "data.info()"
      ]
    },
    {
      "cell_type": "code",
      "execution_count": 6,
      "metadata": {
        "id": "zkhvI58Xguy1",
        "colab": {
          "base_uri": "https://localhost:8080/",
          "height": 867
        },
        "outputId": "3826cd7d-ca39-4d2b-97a3-827d9f1d3878"
      },
      "outputs": [
        {
          "output_type": "execute_result",
          "data": {
            "text/plain": [
              "Unnamed: 0                           103904\n",
              "id                                   103904\n",
              "Gender                                    2\n",
              "Customer Type                             2\n",
              "Age                                      75\n",
              "Type of Travel                            2\n",
              "Class                                     3\n",
              "Flight Distance                        3802\n",
              "Inflight wifi service                     6\n",
              "Departure/Arrival time convenient         6\n",
              "Ease of Online booking                    6\n",
              "Gate location                             6\n",
              "Food and drink                            6\n",
              "Online boarding                           6\n",
              "Seat comfort                              6\n",
              "Inflight entertainment                    6\n",
              "On-board service                          6\n",
              "Leg room service                          6\n",
              "Baggage handling                          5\n",
              "Checkin service                           6\n",
              "Inflight service                          6\n",
              "Cleanliness                               6\n",
              "Departure Delay in Minutes              446\n",
              "Arrival Delay in Minutes                455\n",
              "satisfaction                              2\n",
              "dtype: int64"
            ],
            "text/html": [
              "<div>\n",
              "<style scoped>\n",
              "    .dataframe tbody tr th:only-of-type {\n",
              "        vertical-align: middle;\n",
              "    }\n",
              "\n",
              "    .dataframe tbody tr th {\n",
              "        vertical-align: top;\n",
              "    }\n",
              "\n",
              "    .dataframe thead th {\n",
              "        text-align: right;\n",
              "    }\n",
              "</style>\n",
              "<table border=\"1\" class=\"dataframe\">\n",
              "  <thead>\n",
              "    <tr style=\"text-align: right;\">\n",
              "      <th></th>\n",
              "      <th>0</th>\n",
              "    </tr>\n",
              "  </thead>\n",
              "  <tbody>\n",
              "    <tr>\n",
              "      <th>Unnamed: 0</th>\n",
              "      <td>103904</td>\n",
              "    </tr>\n",
              "    <tr>\n",
              "      <th>id</th>\n",
              "      <td>103904</td>\n",
              "    </tr>\n",
              "    <tr>\n",
              "      <th>Gender</th>\n",
              "      <td>2</td>\n",
              "    </tr>\n",
              "    <tr>\n",
              "      <th>Customer Type</th>\n",
              "      <td>2</td>\n",
              "    </tr>\n",
              "    <tr>\n",
              "      <th>Age</th>\n",
              "      <td>75</td>\n",
              "    </tr>\n",
              "    <tr>\n",
              "      <th>Type of Travel</th>\n",
              "      <td>2</td>\n",
              "    </tr>\n",
              "    <tr>\n",
              "      <th>Class</th>\n",
              "      <td>3</td>\n",
              "    </tr>\n",
              "    <tr>\n",
              "      <th>Flight Distance</th>\n",
              "      <td>3802</td>\n",
              "    </tr>\n",
              "    <tr>\n",
              "      <th>Inflight wifi service</th>\n",
              "      <td>6</td>\n",
              "    </tr>\n",
              "    <tr>\n",
              "      <th>Departure/Arrival time convenient</th>\n",
              "      <td>6</td>\n",
              "    </tr>\n",
              "    <tr>\n",
              "      <th>Ease of Online booking</th>\n",
              "      <td>6</td>\n",
              "    </tr>\n",
              "    <tr>\n",
              "      <th>Gate location</th>\n",
              "      <td>6</td>\n",
              "    </tr>\n",
              "    <tr>\n",
              "      <th>Food and drink</th>\n",
              "      <td>6</td>\n",
              "    </tr>\n",
              "    <tr>\n",
              "      <th>Online boarding</th>\n",
              "      <td>6</td>\n",
              "    </tr>\n",
              "    <tr>\n",
              "      <th>Seat comfort</th>\n",
              "      <td>6</td>\n",
              "    </tr>\n",
              "    <tr>\n",
              "      <th>Inflight entertainment</th>\n",
              "      <td>6</td>\n",
              "    </tr>\n",
              "    <tr>\n",
              "      <th>On-board service</th>\n",
              "      <td>6</td>\n",
              "    </tr>\n",
              "    <tr>\n",
              "      <th>Leg room service</th>\n",
              "      <td>6</td>\n",
              "    </tr>\n",
              "    <tr>\n",
              "      <th>Baggage handling</th>\n",
              "      <td>5</td>\n",
              "    </tr>\n",
              "    <tr>\n",
              "      <th>Checkin service</th>\n",
              "      <td>6</td>\n",
              "    </tr>\n",
              "    <tr>\n",
              "      <th>Inflight service</th>\n",
              "      <td>6</td>\n",
              "    </tr>\n",
              "    <tr>\n",
              "      <th>Cleanliness</th>\n",
              "      <td>6</td>\n",
              "    </tr>\n",
              "    <tr>\n",
              "      <th>Departure Delay in Minutes</th>\n",
              "      <td>446</td>\n",
              "    </tr>\n",
              "    <tr>\n",
              "      <th>Arrival Delay in Minutes</th>\n",
              "      <td>455</td>\n",
              "    </tr>\n",
              "    <tr>\n",
              "      <th>satisfaction</th>\n",
              "      <td>2</td>\n",
              "    </tr>\n",
              "  </tbody>\n",
              "</table>\n",
              "</div><br><label><b>dtype:</b> int64</label>"
            ]
          },
          "metadata": {},
          "execution_count": 6
        }
      ],
      "source": [
        "# 각 column 별로 고유한 값의 개수 확인\n",
        "data.nunique()"
      ]
    },
    {
      "cell_type": "code",
      "execution_count": 7,
      "metadata": {
        "colab": {
          "base_uri": "https://localhost:8080/",
          "height": 867
        },
        "id": "Lnn64Mgyfkux",
        "outputId": "68cd9282-49bd-4b85-ed22-d4addf6e20af"
      },
      "outputs": [
        {
          "output_type": "execute_result",
          "data": {
            "text/plain": [
              "Unnamed: 0                             0\n",
              "id                                     0\n",
              "Gender                                 0\n",
              "Customer Type                          0\n",
              "Age                                    0\n",
              "Type of Travel                         0\n",
              "Class                                  0\n",
              "Flight Distance                        0\n",
              "Inflight wifi service                  0\n",
              "Departure/Arrival time convenient      0\n",
              "Ease of Online booking                 0\n",
              "Gate location                          0\n",
              "Food and drink                         0\n",
              "Online boarding                        0\n",
              "Seat comfort                           0\n",
              "Inflight entertainment                 0\n",
              "On-board service                       0\n",
              "Leg room service                       0\n",
              "Baggage handling                       0\n",
              "Checkin service                        0\n",
              "Inflight service                       0\n",
              "Cleanliness                            0\n",
              "Departure Delay in Minutes             0\n",
              "Arrival Delay in Minutes             310\n",
              "satisfaction                           0\n",
              "dtype: int64"
            ],
            "text/html": [
              "<div>\n",
              "<style scoped>\n",
              "    .dataframe tbody tr th:only-of-type {\n",
              "        vertical-align: middle;\n",
              "    }\n",
              "\n",
              "    .dataframe tbody tr th {\n",
              "        vertical-align: top;\n",
              "    }\n",
              "\n",
              "    .dataframe thead th {\n",
              "        text-align: right;\n",
              "    }\n",
              "</style>\n",
              "<table border=\"1\" class=\"dataframe\">\n",
              "  <thead>\n",
              "    <tr style=\"text-align: right;\">\n",
              "      <th></th>\n",
              "      <th>0</th>\n",
              "    </tr>\n",
              "  </thead>\n",
              "  <tbody>\n",
              "    <tr>\n",
              "      <th>Unnamed: 0</th>\n",
              "      <td>0</td>\n",
              "    </tr>\n",
              "    <tr>\n",
              "      <th>id</th>\n",
              "      <td>0</td>\n",
              "    </tr>\n",
              "    <tr>\n",
              "      <th>Gender</th>\n",
              "      <td>0</td>\n",
              "    </tr>\n",
              "    <tr>\n",
              "      <th>Customer Type</th>\n",
              "      <td>0</td>\n",
              "    </tr>\n",
              "    <tr>\n",
              "      <th>Age</th>\n",
              "      <td>0</td>\n",
              "    </tr>\n",
              "    <tr>\n",
              "      <th>Type of Travel</th>\n",
              "      <td>0</td>\n",
              "    </tr>\n",
              "    <tr>\n",
              "      <th>Class</th>\n",
              "      <td>0</td>\n",
              "    </tr>\n",
              "    <tr>\n",
              "      <th>Flight Distance</th>\n",
              "      <td>0</td>\n",
              "    </tr>\n",
              "    <tr>\n",
              "      <th>Inflight wifi service</th>\n",
              "      <td>0</td>\n",
              "    </tr>\n",
              "    <tr>\n",
              "      <th>Departure/Arrival time convenient</th>\n",
              "      <td>0</td>\n",
              "    </tr>\n",
              "    <tr>\n",
              "      <th>Ease of Online booking</th>\n",
              "      <td>0</td>\n",
              "    </tr>\n",
              "    <tr>\n",
              "      <th>Gate location</th>\n",
              "      <td>0</td>\n",
              "    </tr>\n",
              "    <tr>\n",
              "      <th>Food and drink</th>\n",
              "      <td>0</td>\n",
              "    </tr>\n",
              "    <tr>\n",
              "      <th>Online boarding</th>\n",
              "      <td>0</td>\n",
              "    </tr>\n",
              "    <tr>\n",
              "      <th>Seat comfort</th>\n",
              "      <td>0</td>\n",
              "    </tr>\n",
              "    <tr>\n",
              "      <th>Inflight entertainment</th>\n",
              "      <td>0</td>\n",
              "    </tr>\n",
              "    <tr>\n",
              "      <th>On-board service</th>\n",
              "      <td>0</td>\n",
              "    </tr>\n",
              "    <tr>\n",
              "      <th>Leg room service</th>\n",
              "      <td>0</td>\n",
              "    </tr>\n",
              "    <tr>\n",
              "      <th>Baggage handling</th>\n",
              "      <td>0</td>\n",
              "    </tr>\n",
              "    <tr>\n",
              "      <th>Checkin service</th>\n",
              "      <td>0</td>\n",
              "    </tr>\n",
              "    <tr>\n",
              "      <th>Inflight service</th>\n",
              "      <td>0</td>\n",
              "    </tr>\n",
              "    <tr>\n",
              "      <th>Cleanliness</th>\n",
              "      <td>0</td>\n",
              "    </tr>\n",
              "    <tr>\n",
              "      <th>Departure Delay in Minutes</th>\n",
              "      <td>0</td>\n",
              "    </tr>\n",
              "    <tr>\n",
              "      <th>Arrival Delay in Minutes</th>\n",
              "      <td>310</td>\n",
              "    </tr>\n",
              "    <tr>\n",
              "      <th>satisfaction</th>\n",
              "      <td>0</td>\n",
              "    </tr>\n",
              "  </tbody>\n",
              "</table>\n",
              "</div><br><label><b>dtype:</b> int64</label>"
            ]
          },
          "metadata": {},
          "execution_count": 7
        }
      ],
      "source": [
        "# 결측값 확인\n",
        "data.isnull().sum()"
      ]
    },
    {
      "cell_type": "code",
      "execution_count": 8,
      "metadata": {
        "colab": {
          "base_uri": "https://localhost:8080/"
        },
        "id": "QD7OOUWte_JE",
        "outputId": "4439caea-5088-4500-fdc8-1f4e7f037886"
      },
      "outputs": [
        {
          "output_type": "stream",
          "name": "stdout",
          "text": [
            "['neutral or dissatisfied', 'satisfied']\n",
            "Number of neutral or dissatisfied: 58879\n",
            "Number of satisfied: 45025\n"
          ]
        }
      ],
      "source": [
        "# y값으로 지정할 'satisfaction' 변수 확인하다.\n",
        "satisfactions = data.satisfaction.unique().tolist()\n",
        "print(satisfactions)\n",
        "print(\"Number of neutral or dissatisfied: {}\".format(data[data.satisfaction == 'neutral or dissatisfied'].shape[0]))\n",
        "print(\"Number of satisfied: {}\".format(data[data.satisfaction == 'satisfied'].shape[0]))"
      ]
    },
    {
      "cell_type": "markdown",
      "metadata": {
        "id": "Z3__veePfSFh"
      },
      "source": [
        "**2) Preprocessing**"
      ]
    },
    {
      "cell_type": "code",
      "execution_count": 9,
      "metadata": {
        "id": "IfVqg5o6fMfO"
      },
      "outputs": [],
      "source": [
        "# Uninformative Variables 삭제하기\n",
        "data = data.drop('Unnamed: 0', axis=1)\n",
        "data = data.drop('id', axis=1)\n",
        "\n",
        "# 'Arrival Delay in Minutes' 열 결측값 채우기\n",
        "imp = SimpleImputer(strategy='median')\n",
        "data[['Arrival Delay in Minutes']] = imp.fit_transform(data[['Arrival Delay in Minutes']])"
      ]
    },
    {
      "cell_type": "markdown",
      "metadata": {
        "id": "imum9_byfwIX"
      },
      "source": [
        "📌 Q2-1. Encoding\n",
        "* 분석을 위해 범주형 변수들은 모두 Encoding을 해주어야 합니다.\n",
        "* 'Gender' 열 encoding을 참고하여 나머지 변수들을 Encoding해주세요.\n",
        "* Hint: 위의 코드를 참고하여 범주형 변수가 무엇인지 확인하고, 열에서 고유한 값이 2개이면 label encoder, 3개 이상이면 onehot encoder를 사용해보세요.\n",
        "* 참고: https://scikit-learn.org/stable/modules/generated/sklearn.preprocessing.LabelEncoder.html#sklearn.preprocessing.LabelEncoder\n",
        "* 참고: https://scikit-learn.org/stable/modules/generated/sklearn.preprocessing.OneHotEncoder.html"
      ]
    },
    {
      "cell_type": "code",
      "execution_count": 10,
      "metadata": {
        "colab": {
          "base_uri": "https://localhost:8080/",
          "height": 178
        },
        "id": "FCwmmNJzfrkS",
        "outputId": "e2472b57-1a97-433a-8ee4-92c28f23abd7"
      },
      "outputs": [
        {
          "output_type": "execute_result",
          "data": {
            "text/plain": [
              "Gender\n",
              "Female    52727\n",
              "Male      51177\n",
              "Name: count, dtype: int64"
            ],
            "text/html": [
              "<div>\n",
              "<style scoped>\n",
              "    .dataframe tbody tr th:only-of-type {\n",
              "        vertical-align: middle;\n",
              "    }\n",
              "\n",
              "    .dataframe tbody tr th {\n",
              "        vertical-align: top;\n",
              "    }\n",
              "\n",
              "    .dataframe thead th {\n",
              "        text-align: right;\n",
              "    }\n",
              "</style>\n",
              "<table border=\"1\" class=\"dataframe\">\n",
              "  <thead>\n",
              "    <tr style=\"text-align: right;\">\n",
              "      <th></th>\n",
              "      <th>count</th>\n",
              "    </tr>\n",
              "    <tr>\n",
              "      <th>Gender</th>\n",
              "      <th></th>\n",
              "    </tr>\n",
              "  </thead>\n",
              "  <tbody>\n",
              "    <tr>\n",
              "      <th>Female</th>\n",
              "      <td>52727</td>\n",
              "    </tr>\n",
              "    <tr>\n",
              "      <th>Male</th>\n",
              "      <td>51177</td>\n",
              "    </tr>\n",
              "  </tbody>\n",
              "</table>\n",
              "</div><br><label><b>dtype:</b> int64</label>"
            ]
          },
          "metadata": {},
          "execution_count": 10
        }
      ],
      "source": [
        "# 'Gender' 열 encoding\n",
        "data['Gender'].value_counts()"
      ]
    },
    {
      "cell_type": "code",
      "execution_count": 11,
      "metadata": {
        "colab": {
          "base_uri": "https://localhost:8080/"
        },
        "id": "lrYqwjfDgCsC",
        "outputId": "0761f6a9-4d4f-43b0-9bd6-fbdb13e3988d"
      },
      "outputs": [
        {
          "output_type": "stream",
          "name": "stdout",
          "text": [
            "Classes: ['Female' 'Male']\n"
          ]
        }
      ],
      "source": [
        "encoder = LabelEncoder()\n",
        "data['Gender'] = encoder.fit_transform(data['Gender'])\n",
        "print(\"Classes:\", encoder.classes_)"
      ]
    },
    {
      "cell_type": "code",
      "source": [
        "data['satisfaction'] = data['satisfaction'].map({'neutral or dissatisfied': 0, 'satisfied': 1})\n",
        "\n",
        "X = data.drop('satisfaction', axis=1)\n",
        "y = data['satisfaction']\n",
        "\n",
        "X = pd.get_dummies(X, drop_first=True)"
      ],
      "metadata": {
        "id": "0A4-xG-B0m-l"
      },
      "execution_count": 12,
      "outputs": []
    },
    {
      "cell_type": "markdown",
      "metadata": {
        "id": "5LIIGUgRiu5A"
      },
      "source": [
        "Train-Test split"
      ]
    },
    {
      "cell_type": "code",
      "execution_count": 13,
      "metadata": {
        "colab": {
          "base_uri": "https://localhost:8080/"
        },
        "id": "hS2oFxsbjNqM",
        "outputId": "690e3f7c-dff8-4c53-919f-9c0ac7516b36"
      },
      "outputs": [
        {
          "output_type": "stream",
          "name": "stdout",
          "text": [
            "(83123, 23)\n",
            "(20781, 23)\n"
          ]
        }
      ],
      "source": [
        "X_train, X_test, y_train, y_test = train_test_split(X, y, test_size=0.20, random_state=42)\n",
        "\n",
        "print(X_train.shape)\n",
        "print(X_test.shape)"
      ]
    },
    {
      "cell_type": "markdown",
      "metadata": {
        "id": "dNBdk-RojSih"
      },
      "source": [
        "📌 Q2-2. Normalization\n",
        "\n",
        "* StandardScaler를 사용합니다.\n",
        "* StandardScaler는 train data의 평균과 표준편차를 학습한 후, 이를 test data에 동일하게 적용해야 합니다.\n",
        "* 이에 맞게 빈칸을 채워주세요."
      ]
    },
    {
      "cell_type": "code",
      "execution_count": 14,
      "metadata": {
        "id": "HlbHvEZ2jQJH"
      },
      "outputs": [],
      "source": [
        "scaler = StandardScaler()\n",
        "X_train = scaler.fit_transform(X_train)\n",
        "X_test = scaler.transform(X_test)"
      ]
    },
    {
      "cell_type": "code",
      "execution_count": 15,
      "metadata": {
        "colab": {
          "base_uri": "https://localhost:8080/",
          "height": 307
        },
        "id": "Sv3sWMvYjaad",
        "outputId": "409ec009-809a-487c-b128-e7146c8b6340"
      },
      "outputs": [
        {
          "output_type": "execute_result",
          "data": {
            "text/plain": [
              "     Gender       Age  Flight Distance  Inflight wifi service  \\\n",
              "0 -0.987150  1.299867        -0.143103               0.956377   \n",
              "1 -0.987150  0.043551        -0.438007               0.956377   \n",
              "2  1.013017  1.696598        -0.808142              -0.549931   \n",
              "3 -0.987150  2.027207         1.053565               0.203223   \n",
              "4 -0.987150 -0.948277         0.169856              -0.549931   \n",
              "\n",
              "   Departure/Arrival time convenient  Ease of Online booking  Gate location  \\\n",
              "0                           1.271553                0.887405      -1.549472   \n",
              "1                           0.616850                0.887405      -0.766108   \n",
              "2                          -0.037854               -0.542403      -1.549472   \n",
              "3                           1.271553                0.172501       0.800620   \n",
              "4                          -0.692557               -0.542403       0.017256   \n",
              "\n",
              "   Food and drink  Online boarding  Seat comfort  ...  Baggage handling  \\\n",
              "0        1.354730         0.558180      1.185329  ...         -0.532883   \n",
              "1       -1.658287         0.558180      1.185329  ...          0.313521   \n",
              "2       -1.658287        -0.923888     -1.846677  ...          1.159924   \n",
              "3       -0.151778         1.299214      0.427327  ...          1.159924   \n",
              "4       -1.658287        -0.923888     -1.846677  ...         -0.532883   \n",
              "\n",
              "   Checkin service  Inflight service  Cleanliness  Departure Delay in Minutes  \\\n",
              "0         1.339119         -1.395033     0.547515                   -0.074078   \n",
              "1        -0.241843          1.157994    -1.740281                    0.107766   \n",
              "2         1.339119          1.157994    -1.740281                   -0.385812   \n",
              "3        -0.241843          1.157994     1.310114                   -0.385812   \n",
              "4         1.339119         -1.395033    -1.740281                   -0.307879   \n",
              "\n",
              "   Arrival Delay in Minutes  Customer Type_disloyal Customer  \\\n",
              "0                 -0.312457                        -0.473171   \n",
              "1                  0.355401                         2.113400   \n",
              "2                 -0.389518                        -0.473171   \n",
              "3                 -0.389518                        -0.473171   \n",
              "4                 -0.004215                         2.113400   \n",
              "\n",
              "   Type of Travel_Personal Travel  Class_Eco  Class_Eco Plus  \n",
              "0                        1.488528   1.102734       -0.278371  \n",
              "1                       -0.671805  -0.906837       -0.278371  \n",
              "2                        1.488528   1.102734       -0.278371  \n",
              "3                        1.488528   1.102734       -0.278371  \n",
              "4                       -0.671805   1.102734       -0.278371  \n",
              "\n",
              "[5 rows x 23 columns]"
            ],
            "text/html": [
              "\n",
              "  <div id=\"df-16ec5018-f221-474e-9830-febcafb99a85\" class=\"colab-df-container\">\n",
              "    <div>\n",
              "<style scoped>\n",
              "    .dataframe tbody tr th:only-of-type {\n",
              "        vertical-align: middle;\n",
              "    }\n",
              "\n",
              "    .dataframe tbody tr th {\n",
              "        vertical-align: top;\n",
              "    }\n",
              "\n",
              "    .dataframe thead th {\n",
              "        text-align: right;\n",
              "    }\n",
              "</style>\n",
              "<table border=\"1\" class=\"dataframe\">\n",
              "  <thead>\n",
              "    <tr style=\"text-align: right;\">\n",
              "      <th></th>\n",
              "      <th>Gender</th>\n",
              "      <th>Age</th>\n",
              "      <th>Flight Distance</th>\n",
              "      <th>Inflight wifi service</th>\n",
              "      <th>Departure/Arrival time convenient</th>\n",
              "      <th>Ease of Online booking</th>\n",
              "      <th>Gate location</th>\n",
              "      <th>Food and drink</th>\n",
              "      <th>Online boarding</th>\n",
              "      <th>Seat comfort</th>\n",
              "      <th>...</th>\n",
              "      <th>Baggage handling</th>\n",
              "      <th>Checkin service</th>\n",
              "      <th>Inflight service</th>\n",
              "      <th>Cleanliness</th>\n",
              "      <th>Departure Delay in Minutes</th>\n",
              "      <th>Arrival Delay in Minutes</th>\n",
              "      <th>Customer Type_disloyal Customer</th>\n",
              "      <th>Type of Travel_Personal Travel</th>\n",
              "      <th>Class_Eco</th>\n",
              "      <th>Class_Eco Plus</th>\n",
              "    </tr>\n",
              "  </thead>\n",
              "  <tbody>\n",
              "    <tr>\n",
              "      <th>0</th>\n",
              "      <td>-0.987150</td>\n",
              "      <td>1.299867</td>\n",
              "      <td>-0.143103</td>\n",
              "      <td>0.956377</td>\n",
              "      <td>1.271553</td>\n",
              "      <td>0.887405</td>\n",
              "      <td>-1.549472</td>\n",
              "      <td>1.354730</td>\n",
              "      <td>0.558180</td>\n",
              "      <td>1.185329</td>\n",
              "      <td>...</td>\n",
              "      <td>-0.532883</td>\n",
              "      <td>1.339119</td>\n",
              "      <td>-1.395033</td>\n",
              "      <td>0.547515</td>\n",
              "      <td>-0.074078</td>\n",
              "      <td>-0.312457</td>\n",
              "      <td>-0.473171</td>\n",
              "      <td>1.488528</td>\n",
              "      <td>1.102734</td>\n",
              "      <td>-0.278371</td>\n",
              "    </tr>\n",
              "    <tr>\n",
              "      <th>1</th>\n",
              "      <td>-0.987150</td>\n",
              "      <td>0.043551</td>\n",
              "      <td>-0.438007</td>\n",
              "      <td>0.956377</td>\n",
              "      <td>0.616850</td>\n",
              "      <td>0.887405</td>\n",
              "      <td>-0.766108</td>\n",
              "      <td>-1.658287</td>\n",
              "      <td>0.558180</td>\n",
              "      <td>1.185329</td>\n",
              "      <td>...</td>\n",
              "      <td>0.313521</td>\n",
              "      <td>-0.241843</td>\n",
              "      <td>1.157994</td>\n",
              "      <td>-1.740281</td>\n",
              "      <td>0.107766</td>\n",
              "      <td>0.355401</td>\n",
              "      <td>2.113400</td>\n",
              "      <td>-0.671805</td>\n",
              "      <td>-0.906837</td>\n",
              "      <td>-0.278371</td>\n",
              "    </tr>\n",
              "    <tr>\n",
              "      <th>2</th>\n",
              "      <td>1.013017</td>\n",
              "      <td>1.696598</td>\n",
              "      <td>-0.808142</td>\n",
              "      <td>-0.549931</td>\n",
              "      <td>-0.037854</td>\n",
              "      <td>-0.542403</td>\n",
              "      <td>-1.549472</td>\n",
              "      <td>-1.658287</td>\n",
              "      <td>-0.923888</td>\n",
              "      <td>-1.846677</td>\n",
              "      <td>...</td>\n",
              "      <td>1.159924</td>\n",
              "      <td>1.339119</td>\n",
              "      <td>1.157994</td>\n",
              "      <td>-1.740281</td>\n",
              "      <td>-0.385812</td>\n",
              "      <td>-0.389518</td>\n",
              "      <td>-0.473171</td>\n",
              "      <td>1.488528</td>\n",
              "      <td>1.102734</td>\n",
              "      <td>-0.278371</td>\n",
              "    </tr>\n",
              "    <tr>\n",
              "      <th>3</th>\n",
              "      <td>-0.987150</td>\n",
              "      <td>2.027207</td>\n",
              "      <td>1.053565</td>\n",
              "      <td>0.203223</td>\n",
              "      <td>1.271553</td>\n",
              "      <td>0.172501</td>\n",
              "      <td>0.800620</td>\n",
              "      <td>-0.151778</td>\n",
              "      <td>1.299214</td>\n",
              "      <td>0.427327</td>\n",
              "      <td>...</td>\n",
              "      <td>1.159924</td>\n",
              "      <td>-0.241843</td>\n",
              "      <td>1.157994</td>\n",
              "      <td>1.310114</td>\n",
              "      <td>-0.385812</td>\n",
              "      <td>-0.389518</td>\n",
              "      <td>-0.473171</td>\n",
              "      <td>1.488528</td>\n",
              "      <td>1.102734</td>\n",
              "      <td>-0.278371</td>\n",
              "    </tr>\n",
              "    <tr>\n",
              "      <th>4</th>\n",
              "      <td>-0.987150</td>\n",
              "      <td>-0.948277</td>\n",
              "      <td>0.169856</td>\n",
              "      <td>-0.549931</td>\n",
              "      <td>-0.692557</td>\n",
              "      <td>-0.542403</td>\n",
              "      <td>0.017256</td>\n",
              "      <td>-1.658287</td>\n",
              "      <td>-0.923888</td>\n",
              "      <td>-1.846677</td>\n",
              "      <td>...</td>\n",
              "      <td>-0.532883</td>\n",
              "      <td>1.339119</td>\n",
              "      <td>-1.395033</td>\n",
              "      <td>-1.740281</td>\n",
              "      <td>-0.307879</td>\n",
              "      <td>-0.004215</td>\n",
              "      <td>2.113400</td>\n",
              "      <td>-0.671805</td>\n",
              "      <td>1.102734</td>\n",
              "      <td>-0.278371</td>\n",
              "    </tr>\n",
              "  </tbody>\n",
              "</table>\n",
              "<p>5 rows × 23 columns</p>\n",
              "</div>\n",
              "    <div class=\"colab-df-buttons\">\n",
              "\n",
              "  <div class=\"colab-df-container\">\n",
              "    <button class=\"colab-df-convert\" onclick=\"convertToInteractive('df-16ec5018-f221-474e-9830-febcafb99a85')\"\n",
              "            title=\"Convert this dataframe to an interactive table.\"\n",
              "            style=\"display:none;\">\n",
              "\n",
              "  <svg xmlns=\"http://www.w3.org/2000/svg\" height=\"24px\" viewBox=\"0 -960 960 960\">\n",
              "    <path d=\"M120-120v-720h720v720H120Zm60-500h600v-160H180v160Zm220 220h160v-160H400v160Zm0 220h160v-160H400v160ZM180-400h160v-160H180v160Zm440 0h160v-160H620v160ZM180-180h160v-160H180v160Zm440 0h160v-160H620v160Z\"/>\n",
              "  </svg>\n",
              "    </button>\n",
              "\n",
              "  <style>\n",
              "    .colab-df-container {\n",
              "      display:flex;\n",
              "      gap: 12px;\n",
              "    }\n",
              "\n",
              "    .colab-df-convert {\n",
              "      background-color: #E8F0FE;\n",
              "      border: none;\n",
              "      border-radius: 50%;\n",
              "      cursor: pointer;\n",
              "      display: none;\n",
              "      fill: #1967D2;\n",
              "      height: 32px;\n",
              "      padding: 0 0 0 0;\n",
              "      width: 32px;\n",
              "    }\n",
              "\n",
              "    .colab-df-convert:hover {\n",
              "      background-color: #E2EBFA;\n",
              "      box-shadow: 0px 1px 2px rgba(60, 64, 67, 0.3), 0px 1px 3px 1px rgba(60, 64, 67, 0.15);\n",
              "      fill: #174EA6;\n",
              "    }\n",
              "\n",
              "    .colab-df-buttons div {\n",
              "      margin-bottom: 4px;\n",
              "    }\n",
              "\n",
              "    [theme=dark] .colab-df-convert {\n",
              "      background-color: #3B4455;\n",
              "      fill: #D2E3FC;\n",
              "    }\n",
              "\n",
              "    [theme=dark] .colab-df-convert:hover {\n",
              "      background-color: #434B5C;\n",
              "      box-shadow: 0px 1px 3px 1px rgba(0, 0, 0, 0.15);\n",
              "      filter: drop-shadow(0px 1px 2px rgba(0, 0, 0, 0.3));\n",
              "      fill: #FFFFFF;\n",
              "    }\n",
              "  </style>\n",
              "\n",
              "    <script>\n",
              "      const buttonEl =\n",
              "        document.querySelector('#df-16ec5018-f221-474e-9830-febcafb99a85 button.colab-df-convert');\n",
              "      buttonEl.style.display =\n",
              "        google.colab.kernel.accessAllowed ? 'block' : 'none';\n",
              "\n",
              "      async function convertToInteractive(key) {\n",
              "        const element = document.querySelector('#df-16ec5018-f221-474e-9830-febcafb99a85');\n",
              "        const dataTable =\n",
              "          await google.colab.kernel.invokeFunction('convertToInteractive',\n",
              "                                                    [key], {});\n",
              "        if (!dataTable) return;\n",
              "\n",
              "        const docLinkHtml = 'Like what you see? Visit the ' +\n",
              "          '<a target=\"_blank\" href=https://colab.research.google.com/notebooks/data_table.ipynb>data table notebook</a>'\n",
              "          + ' to learn more about interactive tables.';\n",
              "        element.innerHTML = '';\n",
              "        dataTable['output_type'] = 'display_data';\n",
              "        await google.colab.output.renderOutput(dataTable, element);\n",
              "        const docLink = document.createElement('div');\n",
              "        docLink.innerHTML = docLinkHtml;\n",
              "        element.appendChild(docLink);\n",
              "      }\n",
              "    </script>\n",
              "  </div>\n",
              "\n",
              "\n",
              "<div id=\"df-965fe8b5-8b8e-42cb-9252-78e3ec16efcb\">\n",
              "  <button class=\"colab-df-quickchart\" onclick=\"quickchart('df-965fe8b5-8b8e-42cb-9252-78e3ec16efcb')\"\n",
              "            title=\"Suggest charts\"\n",
              "            style=\"display:none;\">\n",
              "\n",
              "<svg xmlns=\"http://www.w3.org/2000/svg\" height=\"24px\"viewBox=\"0 0 24 24\"\n",
              "     width=\"24px\">\n",
              "    <g>\n",
              "        <path d=\"M19 3H5c-1.1 0-2 .9-2 2v14c0 1.1.9 2 2 2h14c1.1 0 2-.9 2-2V5c0-1.1-.9-2-2-2zM9 17H7v-7h2v7zm4 0h-2V7h2v10zm4 0h-2v-4h2v4z\"/>\n",
              "    </g>\n",
              "</svg>\n",
              "  </button>\n",
              "\n",
              "<style>\n",
              "  .colab-df-quickchart {\n",
              "      --bg-color: #E8F0FE;\n",
              "      --fill-color: #1967D2;\n",
              "      --hover-bg-color: #E2EBFA;\n",
              "      --hover-fill-color: #174EA6;\n",
              "      --disabled-fill-color: #AAA;\n",
              "      --disabled-bg-color: #DDD;\n",
              "  }\n",
              "\n",
              "  [theme=dark] .colab-df-quickchart {\n",
              "      --bg-color: #3B4455;\n",
              "      --fill-color: #D2E3FC;\n",
              "      --hover-bg-color: #434B5C;\n",
              "      --hover-fill-color: #FFFFFF;\n",
              "      --disabled-bg-color: #3B4455;\n",
              "      --disabled-fill-color: #666;\n",
              "  }\n",
              "\n",
              "  .colab-df-quickchart {\n",
              "    background-color: var(--bg-color);\n",
              "    border: none;\n",
              "    border-radius: 50%;\n",
              "    cursor: pointer;\n",
              "    display: none;\n",
              "    fill: var(--fill-color);\n",
              "    height: 32px;\n",
              "    padding: 0;\n",
              "    width: 32px;\n",
              "  }\n",
              "\n",
              "  .colab-df-quickchart:hover {\n",
              "    background-color: var(--hover-bg-color);\n",
              "    box-shadow: 0 1px 2px rgba(60, 64, 67, 0.3), 0 1px 3px 1px rgba(60, 64, 67, 0.15);\n",
              "    fill: var(--button-hover-fill-color);\n",
              "  }\n",
              "\n",
              "  .colab-df-quickchart-complete:disabled,\n",
              "  .colab-df-quickchart-complete:disabled:hover {\n",
              "    background-color: var(--disabled-bg-color);\n",
              "    fill: var(--disabled-fill-color);\n",
              "    box-shadow: none;\n",
              "  }\n",
              "\n",
              "  .colab-df-spinner {\n",
              "    border: 2px solid var(--fill-color);\n",
              "    border-color: transparent;\n",
              "    border-bottom-color: var(--fill-color);\n",
              "    animation:\n",
              "      spin 1s steps(1) infinite;\n",
              "  }\n",
              "\n",
              "  @keyframes spin {\n",
              "    0% {\n",
              "      border-color: transparent;\n",
              "      border-bottom-color: var(--fill-color);\n",
              "      border-left-color: var(--fill-color);\n",
              "    }\n",
              "    20% {\n",
              "      border-color: transparent;\n",
              "      border-left-color: var(--fill-color);\n",
              "      border-top-color: var(--fill-color);\n",
              "    }\n",
              "    30% {\n",
              "      border-color: transparent;\n",
              "      border-left-color: var(--fill-color);\n",
              "      border-top-color: var(--fill-color);\n",
              "      border-right-color: var(--fill-color);\n",
              "    }\n",
              "    40% {\n",
              "      border-color: transparent;\n",
              "      border-right-color: var(--fill-color);\n",
              "      border-top-color: var(--fill-color);\n",
              "    }\n",
              "    60% {\n",
              "      border-color: transparent;\n",
              "      border-right-color: var(--fill-color);\n",
              "    }\n",
              "    80% {\n",
              "      border-color: transparent;\n",
              "      border-right-color: var(--fill-color);\n",
              "      border-bottom-color: var(--fill-color);\n",
              "    }\n",
              "    90% {\n",
              "      border-color: transparent;\n",
              "      border-bottom-color: var(--fill-color);\n",
              "    }\n",
              "  }\n",
              "</style>\n",
              "\n",
              "  <script>\n",
              "    async function quickchart(key) {\n",
              "      const quickchartButtonEl =\n",
              "        document.querySelector('#' + key + ' button');\n",
              "      quickchartButtonEl.disabled = true;  // To prevent multiple clicks.\n",
              "      quickchartButtonEl.classList.add('colab-df-spinner');\n",
              "      try {\n",
              "        const charts = await google.colab.kernel.invokeFunction(\n",
              "            'suggestCharts', [key], {});\n",
              "      } catch (error) {\n",
              "        console.error('Error during call to suggestCharts:', error);\n",
              "      }\n",
              "      quickchartButtonEl.classList.remove('colab-df-spinner');\n",
              "      quickchartButtonEl.classList.add('colab-df-quickchart-complete');\n",
              "    }\n",
              "    (() => {\n",
              "      let quickchartButtonEl =\n",
              "        document.querySelector('#df-965fe8b5-8b8e-42cb-9252-78e3ec16efcb button');\n",
              "      quickchartButtonEl.style.display =\n",
              "        google.colab.kernel.accessAllowed ? 'block' : 'none';\n",
              "    })();\n",
              "  </script>\n",
              "</div>\n",
              "\n",
              "    </div>\n",
              "  </div>\n"
            ],
            "application/vnd.google.colaboratory.intrinsic+json": {
              "type": "dataframe",
              "variable_name": "X_train_data"
            }
          },
          "metadata": {},
          "execution_count": 15
        }
      ],
      "source": [
        "X_train_data = pd.DataFrame(X_train, columns=X.columns)\n",
        "X_train_data.head()"
      ]
    },
    {
      "cell_type": "markdown",
      "metadata": {
        "id": "5QSMDFd0k0Gh"
      },
      "source": [
        "**3) Modeling**"
      ]
    },
    {
      "cell_type": "markdown",
      "metadata": {
        "id": "39QK60v_sDrN"
      },
      "source": [
        "📌 Q2-3. Hyperparameter Tuning\n",
        "\n",
        "* Random Forest 모델을 이용하며, Grid Search를 이용하여 적절한 하이퍼파라미터를 찾습니다.\n",
        "* Q1의 Hyperparameter Tuning을 참고하여 아래 빈칸을 채워주세요."
      ]
    },
    {
      "cell_type": "code",
      "execution_count": 17,
      "metadata": {
        "colab": {
          "base_uri": "https://localhost:8080/"
        },
        "id": "fbjgKnB2lURJ",
        "outputId": "1526c1fc-5367-4667-cbc4-bf0d7f5e2eba"
      },
      "outputs": [
        {
          "output_type": "stream",
          "name": "stdout",
          "text": [
            "Best hyperparameters for RandomForest: {'criterion': 'entropy', 'max_depth': 20, 'min_samples_split': 5, 'n_estimators': 100}\n"
          ]
        }
      ],
      "source": [
        "rf = RandomForestClassifier(random_state=42)\n",
        "\n",
        "# Grid Search\n",
        "param_grid_rf = {\n",
        "    'n_estimators': [50, 100],\n",
        "    'max_depth': [10, 20],\n",
        "    'min_samples_split': [2, 5],\n",
        "    'criterion': ['gini', 'entropy']\n",
        "}\n",
        "\n",
        "grid_rf = GridSearchCV(\n",
        "    estimator=rf,\n",
        "    param_grid=param_grid_rf,\n",
        "    cv=5,\n",
        "    scoring='accuracy',\n",
        "    n_jobs=-1\n",
        ")\n",
        "\n",
        "grid_rf.fit(X_train, y_train)\n",
        "\n",
        "best_rf = grid_rf.best_estimator_\n",
        "\n",
        "print(\"Best hyperparameters for RandomForest:\", grid_rf.best_params_)"
      ]
    },
    {
      "cell_type": "markdown",
      "metadata": {
        "id": "D_KIIYfHsI4b"
      },
      "source": [
        "📌 Q2-4. k-fold\n",
        "* k-fold를 이용하여 **train set에서 5-CV**를\n",
        "수행하도록 빈칸을 채워주세요.\n",
        "* 참고: https://scikit-learn.org/stable/modules/generated/sklearn.model_selection.KFold.html"
      ]
    },
    {
      "cell_type": "code",
      "execution_count": 18,
      "metadata": {
        "colab": {
          "base_uri": "https://localhost:8080/"
        },
        "id": "rd69xwzql5tW",
        "outputId": "77d4fee5-40af-4afe-b6ce-44769fb2ded3"
      },
      "outputs": [
        {
          "output_type": "stream",
          "name": "stdout",
          "text": [
            "Accuracy for each fold: [0.95687218 0.96204511 0.96078195 0.96144129 0.96282483]\n",
            "Max score of RF: 0.9628, Mean score of RF: 0.9608 (std: 0.0021)\n"
          ]
        }
      ],
      "source": [
        "kfold = KFold(n_splits=5, shuffle=True, random_state=123)\n",
        "cv_scores = cross_val_score(best_rf, X_train, y_train, cv=kfold, scoring=\"accuracy\")\n",
        "\n",
        "\n",
        "print(f\"Accuracy for each fold: {cv_scores}\")\n",
        "print(f\"Max score of RF: {cv_scores.max():.4f}, Mean score of RF: {cv_scores.mean():.4f} (std: {cv_scores.std():.4f})\")"
      ]
    },
    {
      "cell_type": "markdown",
      "metadata": {
        "id": "kjoHIsFWl5dP"
      },
      "source": [
        "**4) Evaluation**"
      ]
    },
    {
      "cell_type": "markdown",
      "metadata": {
        "id": "QoUhP6dksNOf"
      },
      "source": [
        "📌 Q2-5.\n",
        "* 모델을 **test set**에 적용하고, 성능을 평가합니다.\n",
        "* 빈칸도 알맞게 채워 classification report, confusion matrix, ROC curve를 출력하고 결과를 해석해주세요.\n",
        "* 참고: https://scikit-learn.org/stable/modules/generated/sklearn.metrics.classification_report.html\n",
        "* 참고: https://scikit-learn.org/stable/modules/generated/sklearn.metrics.confusion_matrix.html\n",
        "\n"
      ]
    },
    {
      "cell_type": "code",
      "execution_count": 19,
      "metadata": {
        "colab": {
          "base_uri": "https://localhost:8080/"
        },
        "id": "E23t6KiOmb3l",
        "outputId": "9c8458cb-9d15-43c4-bca8-7a50535db000"
      },
      "outputs": [
        {
          "output_type": "stream",
          "name": "stdout",
          "text": [
            "Accuracy : 0.9618\n",
            "              precision    recall  f1-score   support\n",
            "\n",
            "           0       0.95      0.98      0.97     11713\n",
            "           1       0.97      0.94      0.96      9068\n",
            "\n",
            "    accuracy                           0.96     20781\n",
            "   macro avg       0.96      0.96      0.96     20781\n",
            "weighted avg       0.96      0.96      0.96     20781\n",
            "\n"
          ]
        }
      ],
      "source": [
        "best_rf.fit(X_train, y_train)\n",
        "pred = best_rf.predict(X_test)\n",
        "\n",
        "accuracy = np.round(accuracy_score(y_test, pred), 4)\n",
        "best_rf_cm = confusion_matrix(y_test, pred)\n",
        "\n",
        "print(\"Accuracy : {}\".format(np.round(accuracy, 4)))\n",
        "print(classification_report(y_test, pred))\n"
      ]
    },
    {
      "cell_type": "code",
      "execution_count": 20,
      "metadata": {
        "colab": {
          "base_uri": "https://localhost:8080/",
          "height": 449
        },
        "id": "7FuIqlIXmcUy",
        "outputId": "65f4b805-8682-47da-801b-4a123d6f1b83"
      },
      "outputs": [
        {
          "output_type": "display_data",
          "data": {
            "text/plain": [
              "<Figure size 640x480 with 2 Axes>"
            ],
            "image/png": "[encoded data removed]"
          },
          "metadata": {}
        }
      ],
      "source": [
        "best_disp = ConfusionMatrixDisplay(confusion_matrix=best_rf_cm, display_labels=best_rf.classes_)\n",
        "best_disp.plot()\n",
        "plt.show()"
      ]
    },
    {
      "cell_type": "code",
      "execution_count": 21,
      "metadata": {
        "id": "428k318CmftL"
      },
      "outputs": [],
      "source": [
        "def roc_plot(X, y, model):\n",
        "    pred = model.predict(X)\n",
        "    pred_positive = model.predict_proba(X)[:,1]\n",
        "    fprs, tprs, threshold = roc_curve(y, pred_positive)\n",
        "    auc = roc_auc_score(y,pred).round(3)\n",
        "    plt.figure(figsize=(6,5))\n",
        "    plt.plot([0,1],label='Standard')\n",
        "    plt.plot(fprs, tprs, label='ROC')\n",
        "    plt.text(0.81,0.22,\"AUC:{}\".format(auc))\n",
        "    plt.xlabel('FPR')\n",
        "    plt.ylabel('TPR')\n",
        "    plt.legend()\n",
        "    plt.grid()\n",
        "    plt.show()"
      ]
    },
    {
      "cell_type": "code",
      "execution_count": 22,
      "metadata": {
        "colab": {
          "base_uri": "https://localhost:8080/",
          "height": 465
        },
        "id": "mCbipVHHmhJR",
        "outputId": "de68e6b9-30f8-46ba-ce83-985ae20ac664"
      },
      "outputs": [
        {
          "output_type": "display_data",
          "data": {
            "text/plain": [
              "<Figure size 600x500 with 1 Axes>"
            ],
            "image/png": "[encoded data removed]"
          },
          "metadata": {}
        }
      ],
      "source": [
        "roc_plot(X = X_test, y = y_test, model = best_rf)"
      ]
    },
    {
      "cell_type": "markdown",
      "metadata": {
        "id": "vXFmDfZbL6MO"
      },
      "source": [
        "답안:"
      ]
    },
    {
      "cell_type": "markdown",
      "metadata": {
        "id": "CTZNigCrL7sp"
      },
      "source": [
        "2주차 1교시 과제는 여기까지입니다. 수고하셨습니다☺️"
      ]
    }
  ],
  "metadata": {
    "colab": {
      "provenance": [],
      "machine_shape": "hm",
      "gpuType": "V5E1"
    },
    "kernelspec": {
      "display_name": "Python 3",
      "name": "python3"
    },
    "language_info": {
      "codemirror_mode": {
        "name": "ipython",
        "version": 3
      },
      "file_extension": ".py",
      "mimetype": "text/x-python",
      "name": "python",
      "nbconvert_exporter": "python",
      "pygments_lexer": "ipython3",
      "version": "3.11.0"
    },
    "accelerator": "TPU"
  },
  "nbformat": 4,
  "nbformat_minor": 0
}