{
 "cells": [
  {
   "cell_type": "markdown",
   "metadata": {
    "id": "HdK1T-1d-NJi"
   },
   "source": [
    "# **2주차 1교시 ML 기초 과제**\n",
    "Q1. Hyperparameter Tuning\n",
    "\n",
    "Q2. airline passenger satisfaction survey 분석하기\n"
   ]
  },
  {
   "cell_type": "markdown",
   "metadata": {
    "id": "6l9AsCfhgNut"
   },
   "source": [
    "## **Q1. Hyperparameter Tuning**\n",
    "\n",
    "- 아래 코드는 SVM(Support Vector Machine) 모델을 사용하여 분류와 회귀 문제를 해결하며, Grid Search, Random Search, Bayesian Search를 활용하여 Hyperparameter Tuning을 수행합니다.\n",
    "\n",
    "  - 참고 사항\n",
    "    - SVM의 하이퍼파라미터는 c와 kernel입니다.\n",
    "    - C: SVM 모델이 오류를 얼마나 허용할 것인지 결정합니다. C값이 클수록 오류를 허용하지 않는 Hard Margin, 작을수록 오류를 허용하는 Soft Margin이 적용됩니다. 이때, C값이 너무 크면 overfitting, 너무 작으면 underfitting이 발생할 수 있으므로 Hyperparameter Tuning을 통해 적절한 값을 찾아야 합니다.\n",
    "    - kernel: 데이터 셋의 형태에 따라 다르게 정해주어야 합니다. 선형 데이터셋의 경우 'linear'를, 비선형 데이터셋은 'poly', 'rbf'을 주로 사용합니다. 이 또한, Hyperparameter Tuning을 통해 최적의 kernel을 찾아주는 것이 좋습니다."
   ]
  },
  {
   "cell_type": "markdown",
   "metadata": {
    "id": "2YdbgvnNTm56"
   },
   "source": [
    "**Data prepration**"
   ]
  },
  {
   "cell_type": "code",
   "execution_count": 1,
   "metadata": {
    "id": "hbtR8VN7-llM"
   },
   "outputs": [],
   "source": [
    "from sklearn.model_selection import train_test_split\n",
    "from sklearn.datasets import make_classification, make_regression\n",
    "from sklearn.svm import SVC, SVR\n",
    "from sklearn.metrics import accuracy_score, mean_squared_error\n",
    "import numpy as np\n",
    "\n",
    "# synthetic data for classification\n",
    "X_cls, y_cls = make_classification(n_samples=1000, n_features=20, random_state=123)\n",
    "X_cls_train, X_cls_test, y_cls_train, y_cls_test = train_test_split(X_cls, y_cls, test_size=0.2, random_state=42)\n",
    "\n",
    "# synthetic data for regression\n",
    "X_reg, y_reg = make_regression(n_samples=1000, n_features=20, noise=0.1, random_state=123)\n",
    "X_reg_train, X_reg_test, y_reg_train, y_reg_test = train_test_split(X_reg, y_reg, test_size=0.2, random_state=42)"
   ]
  },
  {
   "cell_type": "markdown",
   "metadata": {
    "id": "MzPDuq1zbvVN"
   },
   "source": [
    "📌 Q1-1.\n",
    "* classification 관련 코드를 참고하여 regression 부분의 각 빈칸을 채워주세요."
   ]
  },
  {
   "cell_type": "markdown",
   "metadata": {
    "id": "InsVxQYZT_lF"
   },
   "source": [
    "**1) Grid Search**\n",
    "* 참고: https://scikit-learn.org/stable/modules/generated/sklearn.model_selection.GridSearchCV.html"
   ]
  },
  {
   "cell_type": "code",
   "execution_count": 4,
   "metadata": {
    "colab": {
     "base_uri": "https://localhost:8080/"
    },
    "id": "Gohram6fTvsx",
    "outputId": "a2829272-0485-4de0-c862-1753f59661ce"
   },
   "outputs": [
    {
     "name": "stdout",
     "output_type": "stream",
     "text": [
      "Best parameters (classification): {'C': 1, 'kernel': 'rbf'}\n",
      "Classification Accuracy: 0.995\n"
     ]
    }
   ],
   "source": [
    "from sklearn.model_selection import GridSearchCV\n",
    "\n",
    "# Grid Search for Classification\n",
    "param_grid_cls = {'C': [0.1, 1, 10], 'kernel': ['linear', 'rbf']}\n",
    "\n",
    "grid_cls = GridSearchCV(\n",
    "    estimator=SVC(),\n",
    "    param_grid=param_grid_cls,\n",
    "    cv=3\n",
    ")\n",
    "\n",
    "grid_cls.fit(X_cls_train, y_cls_train)\n",
    "best_cls = grid_cls.best_estimator_\n",
    "print(\"Best parameters (classification):\", grid_cls.best_params_)\n",
    "\n",
    "y_cls_pred = best_cls.predict(X_cls_test)\n",
    "print(\"Classification Accuracy:\", accuracy_score(y_cls_test, y_cls_pred))"
   ]
  },
  {
   "cell_type": "code",
   "execution_count": 5,
   "metadata": {
    "colab": {
     "base_uri": "https://localhost:8080/"
    },
    "id": "uyojXRQQTy0z",
    "outputId": "641713fa-cdc0-42ad-ddc0-95a20545ab14"
   },
   "outputs": [
    {
     "name": "stdout",
     "output_type": "stream",
     "text": [
      "Best parameters (regression): {'C': 10, 'kernel': 'linear'}\n",
      "Regression MSE: 0.009701651758152192\n"
     ]
    }
   ],
   "source": [
    "# Grid Search for Regression\n",
    "param_grid_reg = {'C': [0.1, 1, 10], 'kernel': ['linear', 'rbf']}\n",
    "\n",
    "grid_reg = GridSearchCV(\n",
    "    estimator=SVR(),\n",
    "    param_grid=param_grid_reg,\n",
    "    cv=3\n",
    ")\n",
    "\n",
    "grid_reg.fit(X_reg_train, y_reg_train)\n",
    "best_reg = grid_reg.best_estimator_\n",
    "print(\"Best parameters (regression):\", grid_reg.best_params_)\n",
    "\n",
    "y_reg_pred = best_reg.predict(X_reg_test)\n",
    "print(\"Regression MSE:\", mean_squared_error(y_reg_test, y_reg_pred))"
   ]
  },
  {
   "cell_type": "markdown",
   "metadata": {
    "id": "IcfjPwTUT8qp"
   },
   "source": [
    "**2) Random Search**\n",
    "* 참고: https://scikit-learn.org/stable/modules/generated/sklearn.model_selection.RandomizedSearchCV.html"
   ]
  },
  {
   "cell_type": "code",
   "execution_count": 7,
   "metadata": {
    "colab": {
     "base_uri": "https://localhost:8080/"
    },
    "id": "RkF3KJtnT4pL",
    "outputId": "a0ee149d-5484-4075-cfd6-5e4ef3fb5194"
   },
   "outputs": [
    {
     "name": "stdout",
     "output_type": "stream",
     "text": [
      "Best parameters (classification): {'kernel': 'rbf', 'C': 2.154434690031882}\n",
      "Classification Accuracy: 0.985\n"
     ]
    }
   ],
   "source": [
    "from sklearn.model_selection import RandomizedSearchCV\n",
    "\n",
    "# Random Search for Classification\n",
    "param_dist_cls = {'C': np.logspace(-3, 3, 10), 'kernel': ['linear', 'rbf']}\n",
    "\n",
    "random_cls = RandomizedSearchCV(\n",
    "    estimator=SVC(),\n",
    "    param_distributions=param_dist_cls,\n",
    "    n_iter=10,\n",
    "    cv=3,\n",
    "    random_state=42\n",
    ")\n",
    "\n",
    "random_cls.fit(X_cls_train, y_cls_train)\n",
    "best_cls = random_cls.best_estimator_\n",
    "print(\"Best parameters (classification):\", random_cls.best_params_)\n",
    "\n",
    "y_cls_pred = best_cls.predict(X_cls_test)\n",
    "print(\"Classification Accuracy:\", accuracy_score(y_cls_test, y_cls_pred))"
   ]
  },
  {
   "cell_type": "code",
   "execution_count": 8,
   "metadata": {
    "colab": {
     "base_uri": "https://localhost:8080/"
    },
    "id": "8B-mXKF4T7Eu",
    "outputId": "a6045202-598a-4a67-80e3-17377c3155b6"
   },
   "outputs": [
    {
     "name": "stdout",
     "output_type": "stream",
     "text": [
      "Best parameters (regression): {'kernel': 'linear', 'C': 1000.0}\n",
      "Regression MSE: 0.00980369102086899\n"
     ]
    }
   ],
   "source": [
    "# Random Search for Regression\n",
    "param_dist_reg = {'C': np.logspace(-3, 3, 10), 'kernel': ['linear', 'rbf']}\n",
    "\n",
    "random_reg = RandomizedSearchCV(\n",
    "    estimator=SVR(),\n",
    "    param_distributions=param_dist_reg,\n",
    "    n_iter=10,\n",
    "    cv=3,\n",
    "    random_state=42\n",
    ")\n",
    "\n",
    "random_reg.fit(X_reg_train, y_reg_train)\n",
    "best_reg = random_reg.best_estimator_\n",
    "\n",
    "print(\"Best parameters (regression):\", random_reg.best_params_)\n",
    "y_reg_pred = best_reg.predict(X_reg_test)\n",
    "print(\"Regression MSE:\", mean_squared_error(y_reg_test, y_reg_pred))"
   ]
  },
  {
   "cell_type": "markdown",
   "metadata": {
    "id": "Wj04LVeWUDFy"
   },
   "source": [
    "**3) Bayesian Search**\n",
    "* 참고: https://scikit-optimize.github.io/stable/modules/generated/skopt.BayesSearchCV.html#skopt.BayesSearchCV"
   ]
  },
  {
   "cell_type": "code",
   "execution_count": 10,
   "metadata": {
    "colab": {
     "base_uri": "https://localhost:8080/"
    },
    "id": "kNbYdxrWXLcd",
    "outputId": "cf4811c7-ab64-4cd1-f163-baefbdedf798"
   },
   "outputs": [
    {
     "name": "stdout",
     "output_type": "stream",
     "text": [
      "Requirement already satisfied: scikit-optimize in c:\\users\\user\\anaconda3\\lib\\site-packages (0.10.2)\n",
      "Requirement already satisfied: joblib>=0.11 in c:\\users\\user\\anaconda3\\lib\\site-packages (from scikit-optimize) (1.4.2)\n",
      "Requirement already satisfied: pyaml>=16.9 in c:\\users\\user\\anaconda3\\lib\\site-packages (from scikit-optimize) (25.1.0)\n",
      "Requirement already satisfied: numpy>=1.20.3 in c:\\users\\user\\anaconda3\\lib\\site-packages (from scikit-optimize) (1.26.4)\n",
      "Requirement already satisfied: scipy>=1.1.0 in c:\\users\\user\\anaconda3\\lib\\site-packages (from scikit-optimize) (1.13.1)\n",
      "Requirement already satisfied: scikit-learn>=1.0.0 in c:\\users\\user\\anaconda3\\lib\\site-packages (from scikit-optimize) (1.4.2)\n",
      "Requirement already satisfied: packaging>=21.3 in c:\\users\\user\\anaconda3\\lib\\site-packages (from scikit-optimize) (23.2)\n",
      "Requirement already satisfied: PyYAML in c:\\users\\user\\anaconda3\\lib\\site-packages (from pyaml>=16.9->scikit-optimize) (6.0.1)\n",
      "Requirement already satisfied: threadpoolctl>=2.0.0 in c:\\users\\user\\anaconda3\\lib\\site-packages (from scikit-learn>=1.0.0->scikit-optimize) (2.2.0)\n"
     ]
    }
   ],
   "source": [
    "!pip install scikit-optimize"
   ]
  },
  {
   "cell_type": "code",
   "execution_count": 11,
   "metadata": {
    "colab": {
     "base_uri": "https://localhost:8080/"
    },
    "id": "otQZ8MuSUGv6",
    "outputId": "f0c98d0b-b6c5-4296-a1ed-ea1ae7f3a7f5"
   },
   "outputs": [
    {
     "name": "stdout",
     "output_type": "stream",
     "text": [
      "Best parameters (classification): OrderedDict({'C': 5.0405293861834055, 'kernel': 'rbf'})\n",
      "Classification Accuracy: 0.98\n"
     ]
    }
   ],
   "source": [
    "from skopt import BayesSearchCV\n",
    "from skopt.space import Real, Categorical\n",
    "\n",
    "\n",
    "# Bayesian Search for Classification\n",
    "param_space_cls = {\n",
    "    'C': Real(1e-3, 1e3, prior='log-uniform'),\n",
    "    'kernel': Categorical(['linear', 'rbf']),\n",
    "}\n",
    "\n",
    "bayes_cls = BayesSearchCV(\n",
    "    estimator=SVC(),\n",
    "    search_spaces=param_space_cls,\n",
    "    n_iter=20,\n",
    "    cv=3,\n",
    "    random_state=42\n",
    ")\n",
    "bayes_cls.fit(X_cls_train, y_cls_train)\n",
    "\n",
    "print(\"Best parameters (classification):\", bayes_cls.best_params_)\n",
    "y_cls_pred = bayes_cls.best_estimator_.predict(X_cls_test)\n",
    "print(\"Classification Accuracy:\", accuracy_score(y_cls_test, y_cls_pred))"
   ]
  },
  {
   "cell_type": "code",
   "execution_count": 12,
   "metadata": {
    "colab": {
     "base_uri": "https://localhost:8080/"
    },
    "id": "WqmWF0WNUJT_",
    "outputId": "5d077c50-5615-4602-8030-e57b870b7b54"
   },
   "outputs": [
    {
     "name": "stdout",
     "output_type": "stream",
     "text": [
      "Best parameters (regression): OrderedDict({'C': 62.7076678988192, 'kernel': 'linear'})\n",
      "Regression MSE: 0.009774752387675117\n"
     ]
    }
   ],
   "source": [
    "# Bayesian Search for Regression\n",
    "param_space_reg = {\n",
    "    'C': Real(1e-3, 1e3, prior='log-uniform'),\n",
    "    'kernel': Categorical(['linear', 'rbf']),\n",
    "}\n",
    "\n",
    "bayes_reg = BayesSearchCV(\n",
    "    estimator=SVR(),\n",
    "    search_spaces= param_space_reg,\n",
    "    n_iter=10,\n",
    "    cv=3,\n",
    "    random_state=42\n",
    ")\n",
    "bayes_reg.fit(X_reg_train, y_reg_train)\n",
    "\n",
    "print(\"Best parameters (regression):\", bayes_reg.best_params_)\n",
    "y_reg_pred = bayes_reg.best_estimator_.predict(X_reg_test)\n",
    "print(\"Regression MSE:\", mean_squared_error(y_reg_test, y_reg_pred))"
   ]
  },
  {
   "cell_type": "markdown",
   "metadata": {
    "id": "5GHU3aPVePT_"
   },
   "source": [
    "📌 Q1-2. 세 가지 하이퍼파라미터 튜닝 방법의 결과가 동일하게 나왔는지 확인하고, 만약 다르다면 어떤 점에서 차이가 있었는지 서술하세요. 또한, 실행 시간과 성능 등을 고려했을 때 가장 효과적인 방법이 무엇인지 적어주세요.\n",
    "\n",
    "추가적으로, 각 방법의 특징과 원리를 설명하고, 장단점을 비교하여 정리해 주셔도 좋습니다!"
   ]
  },
  {
   "cell_type": "markdown",
   "metadata": {
    "id": "wziE8s-DKVnB"
   },
   "source": [
    "답안:\n",
    "\n",
    "결과를 비교해보면, \n",
    "분류 문제에서는 그리드서치(0.995)로 정확도가 가장 높고, 랜덤서치(0.985) / 베이지안 최적화(0.98)로 낮은 값을 보입니다.\n",
    "회귀 문제에서는 그리드서치(0.00970)로 MSE가 가장 낮고, 랜덤서치(0.00980) / 베이지안 최적화(0.00977)로 큰 값을 보입니다. \n",
    "\n",
    "세 개의 모델은 최적 하이퍼파라미터 값과, 성능, 탐색 방식에서 창이가 나타납니다. \n",
    "그리드서치는 미리 정의된 범위에서 고정된 간격으로 탐색하고, 랜덤서치는 범위 내에서 무작위로 샘플링합니다. 마지막으로 베이지안 최적화는\n",
    "탐색 과정에서 확률적 모델을 활용하여 최적값을 찾기 때문에 세 모델의 하이퍼파라미터 값이 달라지게 됩니다.\n",
    "성능 부분에서는 그리드서치 > 랜덤서치 > 베이지안 최적화 순으로 성능이 높았습니다.\n",
    "\n",
    "그리드 서치는, 모든 조합을 시도해서 가장 정밀한 탐색이 가능하지만, 시간이 많이 걸립니다.\n",
    "랜덤 서치는 무작위 샘플링으로 시간은 많이 절약되지만, 최적값을 정확히 못 찾을 수도 있습니다.\n",
    "베이지안 최적화는 랜덤서치보다 효율적이나, 최적값이 항상 보장되지는 않습니다.\n",
    "\n",
    "-> 세 방법을 비교해보았을 때, 데이터가 많고 시간이 충분하다면 그리드서치가 가장 효과적인 방법일 것 같습니다.\n",
    "반대로 시간이 제한적이거나 탐색 범위가 넓다면 베이지안 최적화, 대략적인 최적값을 빠르게 찾고 싶다면 랜덤서치가 적절한 방법이 될 것입니다.\n",
    "데이터의 크기와, 싱행시간을 고려해 효과적인 방법을 선택해야 합니다."
   ]
  },
  {
   "cell_type": "markdown",
   "metadata": {
    "id": "SdsUxm8FZ5EU"
   },
   "source": [
    "## **Q2. airline passenger satisfaction survey 분석하기**\n",
    "\n",
    "- 아래 코드는 'airline passenger satisfaction survey' dataset을 분석하고, Random Froest 모델을 학습시켜 성능을 평가합니다.\n",
    "- 세션에서 배운 Normalization, Cross-validation, Confusion Matrix 등의 개념이 포함되어 있습니다.\n",
    "- 과정을 천천히 따라오면서 답안을 작성해주세요!"
   ]
  },
  {
   "cell_type": "markdown",
   "metadata": {
    "id": "ptVAH_K1aMBj"
   },
   "source": [
    "**1) Data description**"
   ]
  },
  {
   "cell_type": "code",
   "execution_count": 17,
   "metadata": {
    "id": "FGi_G99ZaLV0"
   },
   "outputs": [],
   "source": [
    "import seaborn as sns\n",
    "import matplotlib.pyplot as plt\n",
    "import pandas as pd\n",
    "import numpy as np\n",
    "from sklearn.preprocessing import LabelEncoder, OneHotEncoder, StandardScaler\n",
    "from sklearn.model_selection import train_test_split\n",
    "from sklearn.impute import SimpleImputer\n",
    "from sklearn.svm import SVC\n",
    "from sklearn.metrics import accuracy_score, confusion_matrix, classification_report, ConfusionMatrixDisplay, roc_curve, roc_auc_score\n",
    "import numpy as np\n",
    "from sklearn.model_selection import GridSearchCV\n",
    "from sklearn.feature_selection import RFECV\n",
    "from sklearn.linear_model import LogisticRegression\n",
    "from sklearn.tree import DecisionTreeClassifier\n",
    "from sklearn.model_selection import cross_val_score, KFold\n",
    "from sklearn.ensemble import RandomForestClassifier"
   ]
  },
  {
   "cell_type": "code",
   "execution_count": 69,
   "metadata": {
    "colab": {
     "base_uri": "https://localhost:8080/",
     "height": 394
    },
    "id": "O7Bx7IHzal1T",
    "outputId": "ae8a3f73-df83-4500-dc8f-05a2df336cf6"
   },
   "outputs": [
    {
     "data": {
      "text/html": [
       "<div>\n",
       "<style scoped>\n",
       "    .dataframe tbody tr th:only-of-type {\n",
       "        vertical-align: middle;\n",
       "    }\n",
       "\n",
       "    .dataframe tbody tr th {\n",
       "        vertical-align: top;\n",
       "    }\n",
       "\n",
       "    .dataframe thead th {\n",
       "        text-align: right;\n",
       "    }\n",
       "</style>\n",
       "<table border=\"1\" class=\"dataframe\">\n",
       "  <thead>\n",
       "    <tr style=\"text-align: right;\">\n",
       "      <th></th>\n",
       "      <th>Unnamed: 0</th>\n",
       "      <th>id</th>\n",
       "      <th>Gender</th>\n",
       "      <th>Customer Type</th>\n",
       "      <th>Age</th>\n",
       "      <th>Type of Travel</th>\n",
       "      <th>Class</th>\n",
       "      <th>Flight Distance</th>\n",
       "      <th>Inflight wifi service</th>\n",
       "      <th>Departure/Arrival time convenient</th>\n",
       "      <th>...</th>\n",
       "      <th>Inflight entertainment</th>\n",
       "      <th>On-board service</th>\n",
       "      <th>Leg room service</th>\n",
       "      <th>Baggage handling</th>\n",
       "      <th>Checkin service</th>\n",
       "      <th>Inflight service</th>\n",
       "      <th>Cleanliness</th>\n",
       "      <th>Departure Delay in Minutes</th>\n",
       "      <th>Arrival Delay in Minutes</th>\n",
       "      <th>satisfaction</th>\n",
       "    </tr>\n",
       "  </thead>\n",
       "  <tbody>\n",
       "    <tr>\n",
       "      <th>0</th>\n",
       "      <td>0</td>\n",
       "      <td>70172</td>\n",
       "      <td>Male</td>\n",
       "      <td>Loyal Customer</td>\n",
       "      <td>13</td>\n",
       "      <td>Personal Travel</td>\n",
       "      <td>Eco Plus</td>\n",
       "      <td>460</td>\n",
       "      <td>3</td>\n",
       "      <td>4</td>\n",
       "      <td>...</td>\n",
       "      <td>5</td>\n",
       "      <td>4</td>\n",
       "      <td>3</td>\n",
       "      <td>4</td>\n",
       "      <td>4</td>\n",
       "      <td>5</td>\n",
       "      <td>5</td>\n",
       "      <td>25</td>\n",
       "      <td>18.0</td>\n",
       "      <td>neutral or dissatisfied</td>\n",
       "    </tr>\n",
       "    <tr>\n",
       "      <th>1</th>\n",
       "      <td>1</td>\n",
       "      <td>5047</td>\n",
       "      <td>Male</td>\n",
       "      <td>disloyal Customer</td>\n",
       "      <td>25</td>\n",
       "      <td>Business travel</td>\n",
       "      <td>Business</td>\n",
       "      <td>235</td>\n",
       "      <td>3</td>\n",
       "      <td>2</td>\n",
       "      <td>...</td>\n",
       "      <td>1</td>\n",
       "      <td>1</td>\n",
       "      <td>5</td>\n",
       "      <td>3</td>\n",
       "      <td>1</td>\n",
       "      <td>4</td>\n",
       "      <td>1</td>\n",
       "      <td>1</td>\n",
       "      <td>6.0</td>\n",
       "      <td>neutral or dissatisfied</td>\n",
       "    </tr>\n",
       "    <tr>\n",
       "      <th>2</th>\n",
       "      <td>2</td>\n",
       "      <td>110028</td>\n",
       "      <td>Female</td>\n",
       "      <td>Loyal Customer</td>\n",
       "      <td>26</td>\n",
       "      <td>Business travel</td>\n",
       "      <td>Business</td>\n",
       "      <td>1142</td>\n",
       "      <td>2</td>\n",
       "      <td>2</td>\n",
       "      <td>...</td>\n",
       "      <td>5</td>\n",
       "      <td>4</td>\n",
       "      <td>3</td>\n",
       "      <td>4</td>\n",
       "      <td>4</td>\n",
       "      <td>4</td>\n",
       "      <td>5</td>\n",
       "      <td>0</td>\n",
       "      <td>0.0</td>\n",
       "      <td>satisfied</td>\n",
       "    </tr>\n",
       "    <tr>\n",
       "      <th>3</th>\n",
       "      <td>3</td>\n",
       "      <td>24026</td>\n",
       "      <td>Female</td>\n",
       "      <td>Loyal Customer</td>\n",
       "      <td>25</td>\n",
       "      <td>Business travel</td>\n",
       "      <td>Business</td>\n",
       "      <td>562</td>\n",
       "      <td>2</td>\n",
       "      <td>5</td>\n",
       "      <td>...</td>\n",
       "      <td>2</td>\n",
       "      <td>2</td>\n",
       "      <td>5</td>\n",
       "      <td>3</td>\n",
       "      <td>1</td>\n",
       "      <td>4</td>\n",
       "      <td>2</td>\n",
       "      <td>11</td>\n",
       "      <td>9.0</td>\n",
       "      <td>neutral or dissatisfied</td>\n",
       "    </tr>\n",
       "    <tr>\n",
       "      <th>4</th>\n",
       "      <td>4</td>\n",
       "      <td>119299</td>\n",
       "      <td>Male</td>\n",
       "      <td>Loyal Customer</td>\n",
       "      <td>61</td>\n",
       "      <td>Business travel</td>\n",
       "      <td>Business</td>\n",
       "      <td>214</td>\n",
       "      <td>3</td>\n",
       "      <td>3</td>\n",
       "      <td>...</td>\n",
       "      <td>3</td>\n",
       "      <td>3</td>\n",
       "      <td>4</td>\n",
       "      <td>4</td>\n",
       "      <td>3</td>\n",
       "      <td>3</td>\n",
       "      <td>3</td>\n",
       "      <td>0</td>\n",
       "      <td>0.0</td>\n",
       "      <td>satisfied</td>\n",
       "    </tr>\n",
       "  </tbody>\n",
       "</table>\n",
       "<p>5 rows × 25 columns</p>\n",
       "</div>"
      ],
      "text/plain": [
       "   Unnamed: 0      id  Gender      Customer Type  Age   Type of Travel  \\\n",
       "0           0   70172    Male     Loyal Customer   13  Personal Travel   \n",
       "1           1    5047    Male  disloyal Customer   25  Business travel   \n",
       "2           2  110028  Female     Loyal Customer   26  Business travel   \n",
       "3           3   24026  Female     Loyal Customer   25  Business travel   \n",
       "4           4  119299    Male     Loyal Customer   61  Business travel   \n",
       "\n",
       "      Class  Flight Distance  Inflight wifi service  \\\n",
       "0  Eco Plus              460                      3   \n",
       "1  Business              235                      3   \n",
       "2  Business             1142                      2   \n",
       "3  Business              562                      2   \n",
       "4  Business              214                      3   \n",
       "\n",
       "   Departure/Arrival time convenient  ...  Inflight entertainment  \\\n",
       "0                                  4  ...                       5   \n",
       "1                                  2  ...                       1   \n",
       "2                                  2  ...                       5   \n",
       "3                                  5  ...                       2   \n",
       "4                                  3  ...                       3   \n",
       "\n",
       "   On-board service  Leg room service  Baggage handling  Checkin service  \\\n",
       "0                 4                 3                 4                4   \n",
       "1                 1                 5                 3                1   \n",
       "2                 4                 3                 4                4   \n",
       "3                 2                 5                 3                1   \n",
       "4                 3                 4                 4                3   \n",
       "\n",
       "   Inflight service  Cleanliness  Departure Delay in Minutes  \\\n",
       "0                 5            5                          25   \n",
       "1                 4            1                           1   \n",
       "2                 4            5                           0   \n",
       "3                 4            2                          11   \n",
       "4                 3            3                           0   \n",
       "\n",
       "   Arrival Delay in Minutes             satisfaction  \n",
       "0                      18.0  neutral or dissatisfied  \n",
       "1                       6.0  neutral or dissatisfied  \n",
       "2                       0.0                satisfied  \n",
       "3                       9.0  neutral or dissatisfied  \n",
       "4                       0.0                satisfied  \n",
       "\n",
       "[5 rows x 25 columns]"
      ]
     },
     "execution_count": 69,
     "metadata": {},
     "output_type": "execute_result"
    }
   ],
   "source": [
    "# 본인 데이터 저장 경로에 맞춰 수정하기\n",
    "\n",
    "data = pd.read_csv(\"airline passenger satisfaction.csv\")\n",
    "data.head()"
   ]
  },
  {
   "cell_type": "code",
   "execution_count": 70,
   "metadata": {
    "colab": {
     "base_uri": "https://localhost:8080/"
    },
    "id": "VfAXe9u1abDE",
    "outputId": "cc7a326a-98ab-46f4-d2e6-4682b15903d3"
   },
   "outputs": [
    {
     "data": {
      "text/plain": [
       "(103904, 25)"
      ]
     },
     "execution_count": 70,
     "metadata": {},
     "output_type": "execute_result"
    }
   ],
   "source": [
    "data.shape"
   ]
  },
  {
   "cell_type": "code",
   "execution_count": 73,
   "metadata": {
    "colab": {
     "base_uri": "https://localhost:8080/"
    },
    "id": "LKm7wWJsd2Vg",
    "outputId": "a7ae3631-782d-4ef6-febe-86f4aa4269b2"
   },
   "outputs": [
    {
     "data": {
      "text/plain": [
       "Index(['Unnamed: 0', 'id', 'Gender', 'Customer Type', 'Age', 'Type of Travel',\n",
       "       'Class', 'Flight Distance', 'Inflight wifi service',\n",
       "       'Departure/Arrival time convenient', 'Ease of Online booking',\n",
       "       'Gate location', 'Food and drink', 'Online boarding', 'Seat comfort',\n",
       "       'Inflight entertainment', 'On-board service', 'Leg room service',\n",
       "       'Baggage handling', 'Checkin service', 'Inflight service',\n",
       "       'Cleanliness', 'Departure Delay in Minutes', 'Arrival Delay in Minutes',\n",
       "       'satisfaction'],\n",
       "      dtype='object')"
      ]
     },
     "execution_count": 73,
     "metadata": {},
     "output_type": "execute_result"
    }
   ],
   "source": [
    "data.columns"
   ]
  },
  {
   "cell_type": "code",
   "execution_count": 75,
   "metadata": {
    "colab": {
     "base_uri": "https://localhost:8080/"
    },
    "id": "JmzzWRDTemRq",
    "outputId": "60bed2ce-9fa6-4674-e176-c3504218474a"
   },
   "outputs": [
    {
     "name": "stdout",
     "output_type": "stream",
     "text": [
      "<class 'pandas.core.frame.DataFrame'>\n",
      "RangeIndex: 103904 entries, 0 to 103903\n",
      "Data columns (total 25 columns):\n",
      " #   Column                             Non-Null Count   Dtype  \n",
      "---  ------                             --------------   -----  \n",
      " 0   Unnamed: 0                         103904 non-null  int64  \n",
      " 1   id                                 103904 non-null  int64  \n",
      " 2   Gender                             103904 non-null  object \n",
      " 3   Customer Type                      103904 non-null  object \n",
      " 4   Age                                103904 non-null  int64  \n",
      " 5   Type of Travel                     103904 non-null  object \n",
      " 6   Class                              103904 non-null  object \n",
      " 7   Flight Distance                    103904 non-null  int64  \n",
      " 8   Inflight wifi service              103904 non-null  int64  \n",
      " 9   Departure/Arrival time convenient  103904 non-null  int64  \n",
      " 10  Ease of Online booking             103904 non-null  int64  \n",
      " 11  Gate location                      103904 non-null  int64  \n",
      " 12  Food and drink                     103904 non-null  int64  \n",
      " 13  Online boarding                    103904 non-null  int64  \n",
      " 14  Seat comfort                       103904 non-null  int64  \n",
      " 15  Inflight entertainment             103904 non-null  int64  \n",
      " 16  On-board service                   103904 non-null  int64  \n",
      " 17  Leg room service                   103904 non-null  int64  \n",
      " 18  Baggage handling                   103904 non-null  int64  \n",
      " 19  Checkin service                    103904 non-null  int64  \n",
      " 20  Inflight service                   103904 non-null  int64  \n",
      " 21  Cleanliness                        103904 non-null  int64  \n",
      " 22  Departure Delay in Minutes         103904 non-null  int64  \n",
      " 23  Arrival Delay in Minutes           103594 non-null  float64\n",
      " 24  satisfaction                       103904 non-null  object \n",
      "dtypes: float64(1), int64(19), object(5)\n",
      "memory usage: 19.8+ MB\n"
     ]
    }
   ],
   "source": [
    "data.info()"
   ]
  },
  {
   "cell_type": "code",
   "execution_count": 77,
   "metadata": {
    "colab": {
     "base_uri": "https://localhost:8080/",
     "height": 868
    },
    "id": "zkhvI58Xguy1",
    "outputId": "f11b23dc-8b82-4510-8ce9-5e1a59568078"
   },
   "outputs": [
    {
     "data": {
      "text/plain": [
       "Unnamed: 0                           103904\n",
       "id                                   103904\n",
       "Gender                                    2\n",
       "Customer Type                             2\n",
       "Age                                      75\n",
       "Type of Travel                            2\n",
       "Class                                     3\n",
       "Flight Distance                        3802\n",
       "Inflight wifi service                     6\n",
       "Departure/Arrival time convenient         6\n",
       "Ease of Online booking                    6\n",
       "Gate location                             6\n",
       "Food and drink                            6\n",
       "Online boarding                           6\n",
       "Seat comfort                              6\n",
       "Inflight entertainment                    6\n",
       "On-board service                          6\n",
       "Leg room service                          6\n",
       "Baggage handling                          5\n",
       "Checkin service                           6\n",
       "Inflight service                          6\n",
       "Cleanliness                               6\n",
       "Departure Delay in Minutes              446\n",
       "Arrival Delay in Minutes                455\n",
       "satisfaction                              2\n",
       "dtype: int64"
      ]
     },
     "execution_count": 77,
     "metadata": {},
     "output_type": "execute_result"
    }
   ],
   "source": [
    "# 각 column 별로 고유한 값의 개수 확인\n",
    "data.nunique()"
   ]
  },
  {
   "cell_type": "code",
   "execution_count": 79,
   "metadata": {
    "colab": {
     "base_uri": "https://localhost:8080/",
     "height": 868
    },
    "id": "Lnn64Mgyfkux",
    "outputId": "831f6468-6484-4420-a3a3-fd6aa776983f"
   },
   "outputs": [
    {
     "data": {
      "text/plain": [
       "Unnamed: 0                             0\n",
       "id                                     0\n",
       "Gender                                 0\n",
       "Customer Type                          0\n",
       "Age                                    0\n",
       "Type of Travel                         0\n",
       "Class                                  0\n",
       "Flight Distance                        0\n",
       "Inflight wifi service                  0\n",
       "Departure/Arrival time convenient      0\n",
       "Ease of Online booking                 0\n",
       "Gate location                          0\n",
       "Food and drink                         0\n",
       "Online boarding                        0\n",
       "Seat comfort                           0\n",
       "Inflight entertainment                 0\n",
       "On-board service                       0\n",
       "Leg room service                       0\n",
       "Baggage handling                       0\n",
       "Checkin service                        0\n",
       "Inflight service                       0\n",
       "Cleanliness                            0\n",
       "Departure Delay in Minutes             0\n",
       "Arrival Delay in Minutes             310\n",
       "satisfaction                           0\n",
       "dtype: int64"
      ]
     },
     "execution_count": 79,
     "metadata": {},
     "output_type": "execute_result"
    }
   ],
   "source": [
    "# 결측값 확인\n",
    "data.isnull().sum()"
   ]
  },
  {
   "cell_type": "code",
   "execution_count": 81,
   "metadata": {
    "colab": {
     "base_uri": "https://localhost:8080/"
    },
    "id": "QD7OOUWte_JE",
    "outputId": "902e478b-f791-485a-fe68-097527e8523d"
   },
   "outputs": [
    {
     "name": "stdout",
     "output_type": "stream",
     "text": [
      "['neutral or dissatisfied', 'satisfied']\n",
      "Number of neutral or dissatisfied: 58879\n",
      "Number of satisfied: 45025\n"
     ]
    }
   ],
   "source": [
    "# y값으로 지정할 'satisfactions' 변수 확인\n",
    "satisfactions = data.satisfaction.unique().tolist()\n",
    "print(satisfactions)\n",
    "print(\"Number of neutral or dissatisfied: {}\".format(data[data.satisfaction == 'neutral or dissatisfied'].shape[0]))\n",
    "print(\"Number of satisfied: {}\".format(data[data.satisfaction == 'satisfied'].shape[0]))"
   ]
  },
  {
   "cell_type": "markdown",
   "metadata": {
    "id": "Z3__veePfSFh"
   },
   "source": [
    "**2) Preprocessing**"
   ]
  },
  {
   "cell_type": "code",
   "execution_count": 84,
   "metadata": {
    "id": "IfVqg5o6fMfO"
   },
   "outputs": [],
   "source": [
    "# Uninformative Variables 삭제하기\n",
    "data = data.drop('Unnamed: 0', axis=1)\n",
    "data = data.drop('id', axis=1)\n",
    "\n",
    "# 'Arrival Delay in Minutes' 열 결측값 채우기\n",
    "imp = SimpleImputer(strategy='median')\n",
    "data[['Arrival Delay in Minutes']] = imp.fit_transform(data[['Arrival Delay in Minutes']])"
   ]
  },
  {
   "cell_type": "markdown",
   "metadata": {
    "id": "imum9_byfwIX"
   },
   "source": [
    "📌 Q2-1. Encoding\n",
    "* 분석을 위해 범주형 변수들은 모두 Encoding을 해주어야 합니다.\n",
    "* 'Gender' 열 encoding을 참고하여 나머지 변수들을 Encoding해주세요.\n",
    "* Hint: 위의 코드를 참고하여 범주형 변수가 무엇인지 확인하고, 열에서 고유한 값이 2개이면 label encoder, 3개 이상이면 onehot encoder를 사용해보세요.\n",
    "* 참고: https://scikit-learn.org/stable/modules/generated/sklearn.preprocessing.LabelEncoder.html#sklearn.preprocessing.LabelEncoder\n",
    "* 참고: https://scikit-learn.org/stable/modules/generated/sklearn.preprocessing.OneHotEncoder.html"
   ]
  },
  {
   "cell_type": "code",
   "execution_count": 87,
   "metadata": {
    "id": "j8NeAmH_Ygp2"
   },
   "outputs": [],
   "source": [
    "# 범주형 변수 찾기\n",
    "categorical_cols = data.select_dtypes(include = ['object']).columns\n",
    "\n",
    "# encoder 함수 정의\n",
    "def encode_categorical_cols(data):\n",
    "    label_encoder = LabelEncoder()\n",
    "    onehot_encoder = OneHotEncoder(sparse_output=False, drop = 'first') # 다중공선성 방지를 위해 첫 번쨰 열 drop\n",
    "\n",
    "    for col in categorical_cols:\n",
    "        # 고유값이 2개라면 LabelEncoder로 변환\n",
    "        if len(data[col].unique()) == 2:\n",
    "            data[col] = label_encoder.fit_transform(data[col])\n",
    "        # 고유값이 3개 이상이라면 OneHotEncoder로 변환\n",
    "        else:\n",
    "            onehot_encoded = onehot_encoder.fit_transform(data[[col]]) # 2차원 배열로 입력하여 -> numpy로 반환\n",
    "            # 데이터 프레임으로 변환 후, 각 고유값에 대한 열 이름 생성\n",
    "            # LabelEncoder처럼 직접 호출하면, col에 여러개의 새로운 열이 추가되는 것이 아니라 단일 열로 취급되기 때문에 열을 분리하고 이름 지정\n",
    "            onehot_encoded_data = pd.DataFrame(onehot_encoded, columns=onehot_encoder.get_feature_names_out([col])) \n",
    "            data = pd.concat([data, onehot_encoded_data], axis=1)\n",
    "            data = data.drop(col, axis=1)  # 기존 컬럼은 삭제\n",
    "    return data\n",
    "\n",
    "\n",
    "# 데이터 변환\n",
    "data = encode_categorical_cols(data)"
   ]
  },
  {
   "cell_type": "code",
   "execution_count": 89,
   "metadata": {
    "scrolled": true
   },
   "outputs": [
    {
     "data": {
      "text/html": [
       "<div>\n",
       "<style scoped>\n",
       "    .dataframe tbody tr th:only-of-type {\n",
       "        vertical-align: middle;\n",
       "    }\n",
       "\n",
       "    .dataframe tbody tr th {\n",
       "        vertical-align: top;\n",
       "    }\n",
       "\n",
       "    .dataframe thead th {\n",
       "        text-align: right;\n",
       "    }\n",
       "</style>\n",
       "<table border=\"1\" class=\"dataframe\">\n",
       "  <thead>\n",
       "    <tr style=\"text-align: right;\">\n",
       "      <th></th>\n",
       "      <th>Gender</th>\n",
       "      <th>Customer Type</th>\n",
       "      <th>Age</th>\n",
       "      <th>Type of Travel</th>\n",
       "      <th>Flight Distance</th>\n",
       "      <th>Inflight wifi service</th>\n",
       "      <th>Departure/Arrival time convenient</th>\n",
       "      <th>Ease of Online booking</th>\n",
       "      <th>Gate location</th>\n",
       "      <th>Food and drink</th>\n",
       "      <th>...</th>\n",
       "      <th>Leg room service</th>\n",
       "      <th>Baggage handling</th>\n",
       "      <th>Checkin service</th>\n",
       "      <th>Inflight service</th>\n",
       "      <th>Cleanliness</th>\n",
       "      <th>Departure Delay in Minutes</th>\n",
       "      <th>Arrival Delay in Minutes</th>\n",
       "      <th>satisfaction</th>\n",
       "      <th>Class_Eco</th>\n",
       "      <th>Class_Eco Plus</th>\n",
       "    </tr>\n",
       "  </thead>\n",
       "  <tbody>\n",
       "    <tr>\n",
       "      <th>0</th>\n",
       "      <td>1</td>\n",
       "      <td>0</td>\n",
       "      <td>13</td>\n",
       "      <td>1</td>\n",
       "      <td>460</td>\n",
       "      <td>3</td>\n",
       "      <td>4</td>\n",
       "      <td>3</td>\n",
       "      <td>1</td>\n",
       "      <td>5</td>\n",
       "      <td>...</td>\n",
       "      <td>3</td>\n",
       "      <td>4</td>\n",
       "      <td>4</td>\n",
       "      <td>5</td>\n",
       "      <td>5</td>\n",
       "      <td>25</td>\n",
       "      <td>18.0</td>\n",
       "      <td>0</td>\n",
       "      <td>0.0</td>\n",
       "      <td>1.0</td>\n",
       "    </tr>\n",
       "    <tr>\n",
       "      <th>1</th>\n",
       "      <td>1</td>\n",
       "      <td>1</td>\n",
       "      <td>25</td>\n",
       "      <td>0</td>\n",
       "      <td>235</td>\n",
       "      <td>3</td>\n",
       "      <td>2</td>\n",
       "      <td>3</td>\n",
       "      <td>3</td>\n",
       "      <td>1</td>\n",
       "      <td>...</td>\n",
       "      <td>5</td>\n",
       "      <td>3</td>\n",
       "      <td>1</td>\n",
       "      <td>4</td>\n",
       "      <td>1</td>\n",
       "      <td>1</td>\n",
       "      <td>6.0</td>\n",
       "      <td>0</td>\n",
       "      <td>0.0</td>\n",
       "      <td>0.0</td>\n",
       "    </tr>\n",
       "    <tr>\n",
       "      <th>2</th>\n",
       "      <td>0</td>\n",
       "      <td>0</td>\n",
       "      <td>26</td>\n",
       "      <td>0</td>\n",
       "      <td>1142</td>\n",
       "      <td>2</td>\n",
       "      <td>2</td>\n",
       "      <td>2</td>\n",
       "      <td>2</td>\n",
       "      <td>5</td>\n",
       "      <td>...</td>\n",
       "      <td>3</td>\n",
       "      <td>4</td>\n",
       "      <td>4</td>\n",
       "      <td>4</td>\n",
       "      <td>5</td>\n",
       "      <td>0</td>\n",
       "      <td>0.0</td>\n",
       "      <td>1</td>\n",
       "      <td>0.0</td>\n",
       "      <td>0.0</td>\n",
       "    </tr>\n",
       "    <tr>\n",
       "      <th>3</th>\n",
       "      <td>0</td>\n",
       "      <td>0</td>\n",
       "      <td>25</td>\n",
       "      <td>0</td>\n",
       "      <td>562</td>\n",
       "      <td>2</td>\n",
       "      <td>5</td>\n",
       "      <td>5</td>\n",
       "      <td>5</td>\n",
       "      <td>2</td>\n",
       "      <td>...</td>\n",
       "      <td>5</td>\n",
       "      <td>3</td>\n",
       "      <td>1</td>\n",
       "      <td>4</td>\n",
       "      <td>2</td>\n",
       "      <td>11</td>\n",
       "      <td>9.0</td>\n",
       "      <td>0</td>\n",
       "      <td>0.0</td>\n",
       "      <td>0.0</td>\n",
       "    </tr>\n",
       "    <tr>\n",
       "      <th>4</th>\n",
       "      <td>1</td>\n",
       "      <td>0</td>\n",
       "      <td>61</td>\n",
       "      <td>0</td>\n",
       "      <td>214</td>\n",
       "      <td>3</td>\n",
       "      <td>3</td>\n",
       "      <td>3</td>\n",
       "      <td>3</td>\n",
       "      <td>4</td>\n",
       "      <td>...</td>\n",
       "      <td>4</td>\n",
       "      <td>4</td>\n",
       "      <td>3</td>\n",
       "      <td>3</td>\n",
       "      <td>3</td>\n",
       "      <td>0</td>\n",
       "      <td>0.0</td>\n",
       "      <td>1</td>\n",
       "      <td>0.0</td>\n",
       "      <td>0.0</td>\n",
       "    </tr>\n",
       "  </tbody>\n",
       "</table>\n",
       "<p>5 rows × 24 columns</p>\n",
       "</div>"
      ],
      "text/plain": [
       "   Gender  Customer Type  Age  Type of Travel  Flight Distance  \\\n",
       "0       1              0   13               1              460   \n",
       "1       1              1   25               0              235   \n",
       "2       0              0   26               0             1142   \n",
       "3       0              0   25               0              562   \n",
       "4       1              0   61               0              214   \n",
       "\n",
       "   Inflight wifi service  Departure/Arrival time convenient  \\\n",
       "0                      3                                  4   \n",
       "1                      3                                  2   \n",
       "2                      2                                  2   \n",
       "3                      2                                  5   \n",
       "4                      3                                  3   \n",
       "\n",
       "   Ease of Online booking  Gate location  Food and drink  ...  \\\n",
       "0                       3              1               5  ...   \n",
       "1                       3              3               1  ...   \n",
       "2                       2              2               5  ...   \n",
       "3                       5              5               2  ...   \n",
       "4                       3              3               4  ...   \n",
       "\n",
       "   Leg room service  Baggage handling  Checkin service  Inflight service  \\\n",
       "0                 3                 4                4                 5   \n",
       "1                 5                 3                1                 4   \n",
       "2                 3                 4                4                 4   \n",
       "3                 5                 3                1                 4   \n",
       "4                 4                 4                3                 3   \n",
       "\n",
       "   Cleanliness  Departure Delay in Minutes  Arrival Delay in Minutes  \\\n",
       "0            5                          25                      18.0   \n",
       "1            1                           1                       6.0   \n",
       "2            5                           0                       0.0   \n",
       "3            2                          11                       9.0   \n",
       "4            3                           0                       0.0   \n",
       "\n",
       "   satisfaction  Class_Eco  Class_Eco Plus  \n",
       "0             0        0.0             1.0  \n",
       "1             0        0.0             0.0  \n",
       "2             1        0.0             0.0  \n",
       "3             0        0.0             0.0  \n",
       "4             1        0.0             0.0  \n",
       "\n",
       "[5 rows x 24 columns]"
      ]
     },
     "execution_count": 89,
     "metadata": {},
     "output_type": "execute_result"
    }
   ],
   "source": [
    "data.head()"
   ]
  },
  {
   "cell_type": "code",
   "execution_count": 91,
   "metadata": {},
   "outputs": [
    {
     "name": "stdout",
     "output_type": "stream",
     "text": [
      "<class 'pandas.core.frame.DataFrame'>\n",
      "RangeIndex: 103904 entries, 0 to 103903\n",
      "Data columns (total 24 columns):\n",
      " #   Column                             Non-Null Count   Dtype  \n",
      "---  ------                             --------------   -----  \n",
      " 0   Gender                             103904 non-null  int32  \n",
      " 1   Customer Type                      103904 non-null  int32  \n",
      " 2   Age                                103904 non-null  int64  \n",
      " 3   Type of Travel                     103904 non-null  int32  \n",
      " 4   Flight Distance                    103904 non-null  int64  \n",
      " 5   Inflight wifi service              103904 non-null  int64  \n",
      " 6   Departure/Arrival time convenient  103904 non-null  int64  \n",
      " 7   Ease of Online booking             103904 non-null  int64  \n",
      " 8   Gate location                      103904 non-null  int64  \n",
      " 9   Food and drink                     103904 non-null  int64  \n",
      " 10  Online boarding                    103904 non-null  int64  \n",
      " 11  Seat comfort                       103904 non-null  int64  \n",
      " 12  Inflight entertainment             103904 non-null  int64  \n",
      " 13  On-board service                   103904 non-null  int64  \n",
      " 14  Leg room service                   103904 non-null  int64  \n",
      " 15  Baggage handling                   103904 non-null  int64  \n",
      " 16  Checkin service                    103904 non-null  int64  \n",
      " 17  Inflight service                   103904 non-null  int64  \n",
      " 18  Cleanliness                        103904 non-null  int64  \n",
      " 19  Departure Delay in Minutes         103904 non-null  int64  \n",
      " 20  Arrival Delay in Minutes           103904 non-null  float64\n",
      " 21  satisfaction                       103904 non-null  int32  \n",
      " 22  Class_Eco                          103904 non-null  float64\n",
      " 23  Class_Eco Plus                     103904 non-null  float64\n",
      "dtypes: float64(3), int32(4), int64(17)\n",
      "memory usage: 17.4 MB\n"
     ]
    }
   ],
   "source": [
    "data.info()"
   ]
  },
  {
   "cell_type": "markdown",
   "metadata": {
    "id": "5LIIGUgRiu5A"
   },
   "source": [
    "Train-Test split"
   ]
  },
  {
   "cell_type": "code",
   "execution_count": 93,
   "metadata": {
    "colab": {
     "base_uri": "https://localhost:8080/"
    },
    "id": "hS2oFxsbjNqM",
    "outputId": "2ab6b5eb-eebd-4edf-97da-f2e4edc00ed3"
   },
   "outputs": [
    {
     "name": "stdout",
     "output_type": "stream",
     "text": [
      "(83123, 23)\n",
      "(20781, 23)\n"
     ]
    }
   ],
   "source": [
    "X = data.drop(data.columns[-4], axis=1)\n",
    "y = data.iloc[:,-3]\n",
    "\n",
    "X_train, X_test, y_train, y_test = train_test_split(X, y, test_size=0.20, random_state=42)\n",
    "\n",
    "print(X_train.shape)\n",
    "print(X_test.shape)"
   ]
  },
  {
   "cell_type": "markdown",
   "metadata": {
    "id": "dNBdk-RojSih"
   },
   "source": [
    "📌 Q2-2. Normalization\n",
    "\n",
    "* StandardScaler를 사용합니다.\n",
    "* StandardScaler는 train data의 평균과 표준편차를 학습한 후, 이를 test data에 동일하게 적용해야 합니다.\n",
    "* 이에 맞게 빈칸을 채워주세요."
   ]
  },
  {
   "cell_type": "code",
   "execution_count": 97,
   "metadata": {
    "id": "HlbHvEZ2jQJH"
   },
   "outputs": [],
   "source": [
    "scaler = StandardScaler()\n",
    "X_train = scaler.fit_transform(X_train)\n",
    "X_test = scaler.transform(X_test)"
   ]
  },
  {
   "cell_type": "code",
   "execution_count": 99,
   "metadata": {
    "colab": {
     "base_uri": "https://localhost:8080/",
     "height": 290
    },
    "id": "Sv3sWMvYjaad",
    "outputId": "b8ae6814-1426-4769-c60f-a0d73333b74e"
   },
   "outputs": [
    {
     "data": {
      "text/html": [
       "<div>\n",
       "<style scoped>\n",
       "    .dataframe tbody tr th:only-of-type {\n",
       "        vertical-align: middle;\n",
       "    }\n",
       "\n",
       "    .dataframe tbody tr th {\n",
       "        vertical-align: top;\n",
       "    }\n",
       "\n",
       "    .dataframe thead th {\n",
       "        text-align: right;\n",
       "    }\n",
       "</style>\n",
       "<table border=\"1\" class=\"dataframe\">\n",
       "  <thead>\n",
       "    <tr style=\"text-align: right;\">\n",
       "      <th></th>\n",
       "      <th>Gender</th>\n",
       "      <th>Customer Type</th>\n",
       "      <th>Age</th>\n",
       "      <th>Type of Travel</th>\n",
       "      <th>Flight Distance</th>\n",
       "      <th>Inflight wifi service</th>\n",
       "      <th>Departure/Arrival time convenient</th>\n",
       "      <th>Ease of Online booking</th>\n",
       "      <th>Gate location</th>\n",
       "      <th>Food and drink</th>\n",
       "      <th>...</th>\n",
       "      <th>On-board service</th>\n",
       "      <th>Leg room service</th>\n",
       "      <th>Baggage handling</th>\n",
       "      <th>Checkin service</th>\n",
       "      <th>Inflight service</th>\n",
       "      <th>Cleanliness</th>\n",
       "      <th>Departure Delay in Minutes</th>\n",
       "      <th>satisfaction</th>\n",
       "      <th>Class_Eco</th>\n",
       "      <th>Class_Eco Plus</th>\n",
       "    </tr>\n",
       "  </thead>\n",
       "  <tbody>\n",
       "    <tr>\n",
       "      <th>0</th>\n",
       "      <td>-0.987150</td>\n",
       "      <td>-0.473171</td>\n",
       "      <td>1.299867</td>\n",
       "      <td>1.488528</td>\n",
       "      <td>-0.143103</td>\n",
       "      <td>0.956377</td>\n",
       "      <td>1.271553</td>\n",
       "      <td>0.887405</td>\n",
       "      <td>-1.549472</td>\n",
       "      <td>1.354730</td>\n",
       "      <td>...</td>\n",
       "      <td>-1.074922</td>\n",
       "      <td>0.491774</td>\n",
       "      <td>-0.532883</td>\n",
       "      <td>1.339119</td>\n",
       "      <td>-1.395033</td>\n",
       "      <td>0.547515</td>\n",
       "      <td>-0.074078</td>\n",
       "      <td>-0.873127</td>\n",
       "      <td>1.102734</td>\n",
       "      <td>-0.278371</td>\n",
       "    </tr>\n",
       "    <tr>\n",
       "      <th>1</th>\n",
       "      <td>-0.987150</td>\n",
       "      <td>2.113400</td>\n",
       "      <td>0.043551</td>\n",
       "      <td>-0.671805</td>\n",
       "      <td>-0.438007</td>\n",
       "      <td>0.956377</td>\n",
       "      <td>0.616850</td>\n",
       "      <td>0.887405</td>\n",
       "      <td>-0.766108</td>\n",
       "      <td>-1.658287</td>\n",
       "      <td>...</td>\n",
       "      <td>0.478625</td>\n",
       "      <td>-1.029881</td>\n",
       "      <td>0.313521</td>\n",
       "      <td>-0.241843</td>\n",
       "      <td>1.157994</td>\n",
       "      <td>-1.740281</td>\n",
       "      <td>0.107766</td>\n",
       "      <td>-0.873127</td>\n",
       "      <td>-0.906837</td>\n",
       "      <td>-0.278371</td>\n",
       "    </tr>\n",
       "    <tr>\n",
       "      <th>2</th>\n",
       "      <td>1.013017</td>\n",
       "      <td>-0.473171</td>\n",
       "      <td>1.696598</td>\n",
       "      <td>1.488528</td>\n",
       "      <td>-0.808142</td>\n",
       "      <td>-0.549931</td>\n",
       "      <td>-0.037854</td>\n",
       "      <td>-0.542403</td>\n",
       "      <td>-1.549472</td>\n",
       "      <td>-1.658287</td>\n",
       "      <td>...</td>\n",
       "      <td>1.255399</td>\n",
       "      <td>0.491774</td>\n",
       "      <td>1.159924</td>\n",
       "      <td>1.339119</td>\n",
       "      <td>1.157994</td>\n",
       "      <td>-1.740281</td>\n",
       "      <td>-0.385812</td>\n",
       "      <td>-0.873127</td>\n",
       "      <td>1.102734</td>\n",
       "      <td>-0.278371</td>\n",
       "    </tr>\n",
       "    <tr>\n",
       "      <th>3</th>\n",
       "      <td>-0.987150</td>\n",
       "      <td>-0.473171</td>\n",
       "      <td>2.027207</td>\n",
       "      <td>1.488528</td>\n",
       "      <td>1.053565</td>\n",
       "      <td>0.203223</td>\n",
       "      <td>1.271553</td>\n",
       "      <td>0.172501</td>\n",
       "      <td>0.800620</td>\n",
       "      <td>-0.151778</td>\n",
       "      <td>...</td>\n",
       "      <td>1.255399</td>\n",
       "      <td>-0.269054</td>\n",
       "      <td>1.159924</td>\n",
       "      <td>-0.241843</td>\n",
       "      <td>1.157994</td>\n",
       "      <td>1.310114</td>\n",
       "      <td>-0.385812</td>\n",
       "      <td>-0.873127</td>\n",
       "      <td>1.102734</td>\n",
       "      <td>-0.278371</td>\n",
       "    </tr>\n",
       "    <tr>\n",
       "      <th>4</th>\n",
       "      <td>-0.987150</td>\n",
       "      <td>2.113400</td>\n",
       "      <td>-0.948277</td>\n",
       "      <td>-0.671805</td>\n",
       "      <td>0.169856</td>\n",
       "      <td>-0.549931</td>\n",
       "      <td>-0.692557</td>\n",
       "      <td>-0.542403</td>\n",
       "      <td>0.017256</td>\n",
       "      <td>-1.658287</td>\n",
       "      <td>...</td>\n",
       "      <td>-1.851695</td>\n",
       "      <td>-1.029881</td>\n",
       "      <td>-0.532883</td>\n",
       "      <td>1.339119</td>\n",
       "      <td>-1.395033</td>\n",
       "      <td>-1.740281</td>\n",
       "      <td>-0.307879</td>\n",
       "      <td>-0.873127</td>\n",
       "      <td>1.102734</td>\n",
       "      <td>-0.278371</td>\n",
       "    </tr>\n",
       "  </tbody>\n",
       "</table>\n",
       "<p>5 rows × 23 columns</p>\n",
       "</div>"
      ],
      "text/plain": [
       "     Gender  Customer Type       Age  Type of Travel  Flight Distance  \\\n",
       "0 -0.987150      -0.473171  1.299867        1.488528        -0.143103   \n",
       "1 -0.987150       2.113400  0.043551       -0.671805        -0.438007   \n",
       "2  1.013017      -0.473171  1.696598        1.488528        -0.808142   \n",
       "3 -0.987150      -0.473171  2.027207        1.488528         1.053565   \n",
       "4 -0.987150       2.113400 -0.948277       -0.671805         0.169856   \n",
       "\n",
       "   Inflight wifi service  Departure/Arrival time convenient  \\\n",
       "0               0.956377                           1.271553   \n",
       "1               0.956377                           0.616850   \n",
       "2              -0.549931                          -0.037854   \n",
       "3               0.203223                           1.271553   \n",
       "4              -0.549931                          -0.692557   \n",
       "\n",
       "   Ease of Online booking  Gate location  Food and drink  ...  \\\n",
       "0                0.887405      -1.549472        1.354730  ...   \n",
       "1                0.887405      -0.766108       -1.658287  ...   \n",
       "2               -0.542403      -1.549472       -1.658287  ...   \n",
       "3                0.172501       0.800620       -0.151778  ...   \n",
       "4               -0.542403       0.017256       -1.658287  ...   \n",
       "\n",
       "   On-board service  Leg room service  Baggage handling  Checkin service  \\\n",
       "0         -1.074922          0.491774         -0.532883         1.339119   \n",
       "1          0.478625         -1.029881          0.313521        -0.241843   \n",
       "2          1.255399          0.491774          1.159924         1.339119   \n",
       "3          1.255399         -0.269054          1.159924        -0.241843   \n",
       "4         -1.851695         -1.029881         -0.532883         1.339119   \n",
       "\n",
       "   Inflight service  Cleanliness  Departure Delay in Minutes  satisfaction  \\\n",
       "0         -1.395033     0.547515                   -0.074078     -0.873127   \n",
       "1          1.157994    -1.740281                    0.107766     -0.873127   \n",
       "2          1.157994    -1.740281                   -0.385812     -0.873127   \n",
       "3          1.157994     1.310114                   -0.385812     -0.873127   \n",
       "4         -1.395033    -1.740281                   -0.307879     -0.873127   \n",
       "\n",
       "   Class_Eco  Class_Eco Plus  \n",
       "0   1.102734       -0.278371  \n",
       "1  -0.906837       -0.278371  \n",
       "2   1.102734       -0.278371  \n",
       "3   1.102734       -0.278371  \n",
       "4   1.102734       -0.278371  \n",
       "\n",
       "[5 rows x 23 columns]"
      ]
     },
     "execution_count": 99,
     "metadata": {},
     "output_type": "execute_result"
    }
   ],
   "source": [
    "X_train_data = pd.DataFrame(X_train, columns=X.columns)\n",
    "X_train_data.head()"
   ]
  },
  {
   "cell_type": "markdown",
   "metadata": {
    "id": "5QSMDFd0k0Gh"
   },
   "source": [
    "**3) Modeling**"
   ]
  },
  {
   "cell_type": "markdown",
   "metadata": {
    "id": "39QK60v_sDrN"
   },
   "source": [
    "📌 Q2-3. Hyperparameter Tuning\n",
    "\n",
    "* Random Forest 모델을 이용하며, Grid Search를 이용하여 적절한 하이퍼파라미터를 찾습니다.\n",
    "* Q1의 Hyperparameter Tuning을 참고하여 아래 빈칸을 채워주세요."
   ]
  },
  {
   "cell_type": "code",
   "execution_count": 103,
   "metadata": {
    "colab": {
     "base_uri": "https://localhost:8080/"
    },
    "id": "fbjgKnB2lURJ",
    "outputId": "13ca3f96-2f1a-4b4c-c56e-76de14694316"
   },
   "outputs": [
    {
     "name": "stdout",
     "output_type": "stream",
     "text": [
      "Best hyperparameters for RandomForest: {'criterion': 'gini', 'max_depth': 10, 'min_samples_split': 2, 'n_estimators': 50}\n"
     ]
    }
   ],
   "source": [
    "rf = RandomForestClassifier(random_state=42)\n",
    "\n",
    "# Grid Search\n",
    "param_grid_rf = {\n",
    "    'n_estimators': [50, 100],\n",
    "    'max_depth': [10, 20],\n",
    "    'min_samples_split': [2, 5],\n",
    "    'criterion': ['gini', 'entropy']\n",
    "}\n",
    "\n",
    "grid_rf = GridSearchCV(\n",
    "    estimator=rf,\n",
    "    param_grid=param_grid_rf,\n",
    "    cv=5,\n",
    "    scoring='accuracy',\n",
    "    n_jobs=-1\n",
    ")\n",
    "\n",
    "grid_rf.fit(X_train, y_train)\n",
    "best_rf = grid_rf.best_estimator_\n",
    "\n",
    "print(\"Best hyperparameters for RandomForest:\", grid_rf.best_params_)"
   ]
  },
  {
   "cell_type": "markdown",
   "metadata": {
    "id": "D_KIIYfHsI4b"
   },
   "source": [
    "📌 Q2-4. k-fold\n",
    "* k-fold를 이용하여 **train set에서 5-CV**를\n",
    "수행하도록 빈칸을 채워주세요.\n",
    "* 참고: https://scikit-learn.org/stable/modules/generated/sklearn.model_selection.KFold.html"
   ]
  },
  {
   "cell_type": "code",
   "execution_count": 104,
   "metadata": {
    "colab": {
     "base_uri": "https://localhost:8080/"
    },
    "id": "rd69xwzql5tW",
    "outputId": "11b4e62a-5419-4053-d420-788b57e2b023"
   },
   "outputs": [
    {
     "name": "stdout",
     "output_type": "stream",
     "text": [
      "Accuracy for each fold: [1. 1. 1. 1. 1.]\n",
      "Max score of RF: 1.0000, Mean score of RF: 1.0000 (std: 0.0000)\n"
     ]
    }
   ],
   "source": [
    "kfold = KFold(n_splits = 5, shuffle=True, random_state=123)\n",
    "cv_scores = cross_val_score(best_rf, X_train, y_train.values, cv=kfold, scoring=\"accuracy\")\n",
    "\n",
    "print(f\"Accuracy for each fold: {cv_scores}\")\n",
    "print(f\"Max score of RF: {cv_scores.max():.4f}, Mean score of RF: {cv_scores.mean():.4f} (std: {cv_scores.std():.4f})\")"
   ]
  },
  {
   "cell_type": "markdown",
   "metadata": {
    "id": "kjoHIsFWl5dP"
   },
   "source": [
    "**4) Evaluation**"
   ]
  },
  {
   "cell_type": "markdown",
   "metadata": {
    "id": "QoUhP6dksNOf"
   },
   "source": [
    "📌 Q2-5.\n",
    "* 모델을 **test set**에 적용하고, 성능을 평가합니다.\n",
    "* 빈칸도 알맞게 채워 classification report, confusion matrix, ROC curve를 출력하고 결과를 해석해주세요.\n",
    "* 참고: https://scikit-learn.org/stable/modules/generated/sklearn.metrics.classification_report.html\n",
    "* 참고: https://scikit-learn.org/stable/modules/generated/sklearn.metrics.confusion_matrix.html\n",
    "\n"
   ]
  },
  {
   "cell_type": "code",
   "execution_count": 107,
   "metadata": {
    "colab": {
     "base_uri": "https://localhost:8080/"
    },
    "id": "E23t6KiOmb3l",
    "outputId": "ab3934db-a97d-46ba-a124-a2e5cea529fd"
   },
   "outputs": [
    {
     "name": "stdout",
     "output_type": "stream",
     "text": [
      "Accuracy : 1.0\n",
      "              precision    recall  f1-score   support\n",
      "\n",
      "           0       1.00      1.00      1.00     11713\n",
      "           1       1.00      1.00      1.00      9068\n",
      "\n",
      "    accuracy                           1.00     20781\n",
      "   macro avg       1.00      1.00      1.00     20781\n",
      "weighted avg       1.00      1.00      1.00     20781\n",
      "\n"
     ]
    }
   ],
   "source": [
    "best_rf.fit(X_train, y_train)\n",
    "pred = best_rf.predict(X_test)\n",
    "\n",
    "accuracy = np.round(accuracy_score(y_test, pred),4)\n",
    "best_rf_cm = confusion_matrix(y_test, pred)\n",
    "\n",
    "print(\"Accuracy : {}\".format(np.round(accuracy,4)))\n",
    "print(classification_report(y_test, pred))"
   ]
  },
  {
   "cell_type": "code",
   "execution_count": 109,
   "metadata": {
    "colab": {
     "base_uri": "https://localhost:8080/",
     "height": 449
    },
    "id": "7FuIqlIXmcUy",
    "outputId": "986fa572-78d8-4e12-da1b-792122e6c428"
   },
   "outputs": [
    {
     "data": {
      "image/png": "[encoded data removed]",
      "text/plain": [
       "<Figure size 640x480 with 2 Axes>"
      ]
     },
     "metadata": {},
     "output_type": "display_data"
    }
   ],
   "source": [
    "best_disp = ConfusionMatrixDisplay(confusion_matrix=best_rf_cm, display_labels=best_rf.classes_[:308])\n",
    "best_disp.plot()\n",
    "plt.show()"
   ]
  },
  {
   "cell_type": "code",
   "execution_count": 111,
   "metadata": {
    "id": "428k318CmftL"
   },
   "outputs": [],
   "source": [
    "def roc_plot(X, y, model):\n",
    "    pred = model.predict(X)\n",
    "    pred_positive = model.predict_proba(X)[:,1]\n",
    "    fprs, tprs, threshold = roc_curve(y, pred_positive)\n",
    "    auc = roc_auc_score(y,pred).round(3)\n",
    "    plt.figure(figsize=(6,5))\n",
    "    plt.plot([0,1],label='Standard')\n",
    "    plt.plot(fprs, tprs, label='ROC')\n",
    "    plt.text(0.81,0.22,\"AUC:{}\".format(auc))\n",
    "    plt.xlabel('FPR')\n",
    "    plt.ylabel('TPR')\n",
    "    plt.legend()\n",
    "    plt.grid()\n",
    "    plt.show()"
   ]
  },
  {
   "cell_type": "code",
   "execution_count": 113,
   "metadata": {
    "colab": {
     "base_uri": "https://localhost:8080/",
     "height": 465
    },
    "id": "mCbipVHHmhJR",
    "outputId": "b4042d0f-4175-49c8-9cda-e0b6ac41b3b0"
   },
   "outputs": [
    {
     "data": {
      "image/png": "[encoded data removed]",
      "text/plain": [
       "<Figure size 600x500 with 1 Axes>"
      ]
     },
     "metadata": {},
     "output_type": "display_data"
    }
   ],
   "source": [
    "roc_plot(X = X_test, y=y_test, model=best_rf)"
   ]
  },
  {
   "cell_type": "markdown",
   "metadata": {
    "id": "vXFmDfZbL6MO"
   },
   "source": [
    "답안:"
   ]
  },
  {
   "cell_type": "markdown",
   "metadata": {
    "id": "CTZNigCrL7sp"
   },
   "source": [
    "2주차 1교시 과제는 여기까지입니다. 수고하셨습니다☺️"
   ]
  }
 ],
 "metadata": {
  "colab": {
   "provenance": []
  },
  "kernelspec": {
   "display_name": "Python 3 (ipykernel)",
   "language": "python",
   "name": "python3"
  },
  "language_info": {
   "codemirror_mode": {
    "name": "ipython",
    "version": 3
   },
   "file_extension": ".py",
   "mimetype": "text/x-python",
   "name": "python",
   "nbconvert_exporter": "python",
   "pygments_lexer": "ipython3",
   "version": "3.12.4"
  }
 },
 "nbformat": 4,
 "nbformat_minor": 4
}
