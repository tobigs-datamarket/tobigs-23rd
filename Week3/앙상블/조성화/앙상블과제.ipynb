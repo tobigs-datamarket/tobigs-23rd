{
  "cells": [
    {
      "cell_type": "code",
      "execution_count": 10,
      "metadata": {
        "id": "LxHEaJMgrz2O"
      },
      "outputs": [],
      "source": [
        "import pandas as pd\n",
        "import numpy as np\n",
        "import os\n",
        "from sklearn.model_selection import train_test_split\n",
        "\n",
        "from sklearn.metrics import confusion_matrix\n",
        "#from sklearn.tree import DecisionTreeClassifier\n",
        "from sklearn.tree import DecisionTreeRegressor\n",
        "#from sklearn.ensemble import RandomForestClassifier\n",
        "from sklearn.ensemble import RandomForestRegressor\n",
        "#from sklearn.ensemble import BaggingClassifier\n",
        "from sklearn.ensemble import BaggingRegressor\n",
        "#from sklearn.ensemble import GradientBoostingClassifier\n",
        "from sklearn.ensemble import GradientBoostingRegressor\n",
        "\n",
        "import matplotlib.pyplot as plt"
      ]
    },
    {
      "cell_type": "markdown",
      "metadata": {
        "id": "Vu4ILMJxsai9"
      },
      "source": [
        "## 1. 데이터 불러오기"
      ]
    },
    {
      "cell_type": "markdown",
      "metadata": {
        "id": "ICrK9XY-sf7q"
      },
      "source": [
        "### Boston Housing Dataset\n",
        "\n",
        "- 보스턴 주택 가격 데이터\n",
        "- 1978년에 발표된 데이터로 미국 보스턴 지역의 주택 가격에 영향을 미치는 요소들을 정리\n",
        "- 총 13가지의 요소들과 주택 가격으로 이루어져 있음."
      ]
    },
    {
      "cell_type": "markdown",
      "metadata": {
        "id": "2AgRvc3Ush0I"
      },
      "source": [
        "### 데이터 호출"
      ]
    },
    {
      "cell_type": "code",
      "execution_count": 11,
      "metadata": {
        "id": "5I_5nNbsscIF"
      },
      "outputs": [],
      "source": [
        "data_url = 'http://lib.stat.cmu.edu/datasets/boston'\n",
        "raw_df = pd.read_csv(data_url, sep='\\s+', skiprows=22, header=None)\n",
        "X_boston = np.hstack([raw_df.values[::2, :], raw_df.values[1::2, :2]])\n",
        "y_boston = raw_df.values[1::2, 2]\n",
        "column_names = ['CRM','ZN','INDUS','CHAS','NOX','RM','AGE','DIS','RAD','TAX','PTRATIO','B','LSTAT']"
      ]
    },
    {
      "cell_type": "markdown",
      "metadata": {
        "id": "puX2hvxXtJse"
      },
      "source": [
        "### 데이터 분할\n",
        "- Training set 70%, Test set 30% 무작위 추출을 이용하여 나누기\n"
      ]
    },
    {
      "cell_type": "code",
      "execution_count": 12,
      "metadata": {
        "id": "uJO965SBtIXB"
      },
      "outputs": [],
      "source": [
        "X_train, X_test, y_train, y_test = \\\n",
        "train_test_split(X_boston, y_boston,\n",
        "                 test_size = 0.3, random_state=123)"
      ]
    },
    {
      "cell_type": "markdown",
      "metadata": {
        "id": "T_kKvb4LthpJ"
      },
      "source": [
        "## 2. 앙상블"
      ]
    },
    {
      "cell_type": "markdown",
      "metadata": {
        "id": "1_2IGVYttpMy"
      },
      "source": [
        "### 2.0 Decision Tree"
      ]
    },
    {
      "cell_type": "code",
      "execution_count": 13,
      "metadata": {
        "colab": {
          "base_uri": "https://localhost:8080/",
          "height": 80
        },
        "id": "iSS3cFN8tg0M",
        "outputId": "51893ff2-2657-4077-dae9-7b37f530737c"
      },
      "outputs": [
        {
          "data": {
            "text/plain": [
              "DecisionTreeRegressor(max_depth=5, random_state=0)"
            ]
          },
          "execution_count": 13,
          "metadata": {},
          "output_type": "execute_result"
        }
      ],
      "source": [
        "tree = DecisionTreeRegressor(max_depth = 5,    #아래 그림이 나오게 빈칸에 의사결정나무 함수 작성\n",
        "                             random_state = 0)\n",
        "tree.fit(X_train, y_train)"
      ]
    },
    {
      "cell_type": "markdown",
      "metadata": {
        "id": "It8xHx66t0zg"
      },
      "source": [
        "### 예측"
      ]
    },
    {
      "cell_type": "code",
      "execution_count": 14,
      "metadata": {
        "colab": {
          "base_uri": "https://localhost:8080/"
        },
        "id": "Bxz90f0btzio",
        "outputId": "74cbef7b-c77e-4395-d1c0-0480d639b06c"
      },
      "outputs": [
        {
          "name": "stdout",
          "output_type": "stream",
          "text": [
            "17.602204873990754\n"
          ]
        }
      ],
      "source": [
        "tree_pred = tree.predict(X_test)\n",
        "print(np.power(y_test-tree_pred,2).mean())"
      ]
    },
    {
      "cell_type": "markdown",
      "metadata": {
        "id": "64LHdnCDuCyq"
      },
      "source": [
        "### 2.1 Bagging"
      ]
    },
    {
      "cell_type": "markdown",
      "metadata": {
        "id": "XJyHrctVuEvX"
      },
      "source": [
        "### 모형적합"
      ]
    },
    {
      "cell_type": "code",
      "execution_count": 15,
      "metadata": {
        "colab": {
          "base_uri": "https://localhost:8080/",
          "height": 166
        },
        "id": "WSY8QU14t_Wb",
        "outputId": "187c5d8d-6a5d-4061-974d-412fdc74eb60"
      },
      "outputs": [
        {
          "data": {
            "text/plain": [
              "BaggingRegressor(base_estimator=DecisionTreeRegressor(), max_samples=0.8,\n",
              "                 n_estimators=1000, random_state=1)"
            ]
          },
          "execution_count": 15,
          "metadata": {},
          "output_type": "execute_result"
        }
      ],
      "source": [
        "tree = DecisionTreeRegressor()\n",
        "bag_model = BaggingRegressor(tree, n_estimators=1000,\n",
        "                             max_samples=0.8, random_state=1)\n",
        "bag_model.fit(X_train, y_train)"
      ]
    },
    {
      "cell_type": "markdown",
      "metadata": {
        "id": "iIZ3pPP-uWha"
      },
      "source": [
        "### 예측"
      ]
    },
    {
      "cell_type": "code",
      "execution_count": 16,
      "metadata": {
        "colab": {
          "base_uri": "https://localhost:8080/"
        },
        "id": "ha7aBuDMuUmW",
        "outputId": "5e6b2e07-5aba-4e17-bce2-fe1a25aa169e"
      },
      "outputs": [
        {
          "name": "stdout",
          "output_type": "stream",
          "text": [
            "2.3376190789473736\n"
          ]
        }
      ],
      "source": [
        "from sklearn.metrics import mean_absolute_error, mean_squared_error\n",
        "bag_pred = bag_model.predict(X_test)\n",
        "print(mean_absolute_error(y_test, bag_pred))  #MAE 계산식 작성 (모르겠으면 위에꺼 참고)"
      ]
    },
    {
      "cell_type": "markdown",
      "metadata": {
        "id": "frhsId3BuhBX"
      },
      "source": [
        "### 2.2 Random Forest"
      ]
    },
    {
      "cell_type": "markdown",
      "metadata": {
        "id": "geczCoQFukG9"
      },
      "source": [
        "### 모형적합"
      ]
    },
    {
      "cell_type": "code",
      "execution_count": 17,
      "metadata": {
        "colab": {
          "base_uri": "https://localhost:8080/",
          "height": 80
        },
        "id": "Z9EPPmteue-I",
        "outputId": "729199e2-d454-4c76-d1ce-e3c7a443f8fc"
      },
      "outputs": [
        {
          "data": {
            "text/plain": [
              "RandomForestRegressor(max_features=3, min_samples_leaf=3, n_estimators=1000)"
            ]
          },
          "execution_count": 17,
          "metadata": {},
          "output_type": "execute_result"
        }
      ],
      "source": [
        "rf_model = RandomForestRegressor(n_estimators=1000,  #아래 그림처럼 나오게 하이퍼파라미터 작성\n",
        "                                 max_features=3,\n",
        "                                 min_samples_leaf=3)\n",
        "rf_model.fit(X_train, y_train)"
      ]
    },
    {
      "cell_type": "markdown",
      "metadata": {
        "id": "ZYCeDjz2uwQx"
      },
      "source": [
        "### 예측"
      ]
    },
    {
      "cell_type": "code",
      "execution_count": 18,
      "metadata": {
        "colab": {
          "base_uri": "https://localhost:8080/"
        },
        "id": "HURJTXU8uuMZ",
        "outputId": "8502aca4-ac4e-4114-9adb-04882bdc7686"
      },
      "outputs": [
        {
          "name": "stdout",
          "output_type": "stream",
          "text": [
            "16.61479900874343\n"
          ]
        }
      ],
      "source": [
        "rf_pred = rf_model.predict(X_test)\n",
        "print(np.power(y_test - rf_pred, 2).mean())   #MSE계산식 작성"
      ]
    },
    {
      "cell_type": "markdown",
      "metadata": {
        "id": "fiQmkUeOu4jg"
      },
      "source": [
        "### 2.3 Boosting"
      ]
    },
    {
      "cell_type": "markdown",
      "metadata": {
        "id": "CdGinEUQu7kG"
      },
      "source": [
        "### 모형적합"
      ]
    },
    {
      "cell_type": "code",
      "execution_count": 19,
      "metadata": {
        "colab": {
          "base_uri": "https://localhost:8080/",
          "height": 80
        },
        "id": "HPdWnRVyu3O1",
        "outputId": "0c124a87-8957-4871-dea4-2b4a7571b7c1"
      },
      "outputs": [
        {
          "data": {
            "text/plain": [
              "GradientBoostingRegressor(n_estimators=1000)"
            ]
          },
          "execution_count": 19,
          "metadata": {},
          "output_type": "execute_result"
        }
      ],
      "source": [
        "gbm_model = GradientBoostingRegressor(n_estimators=1000,  #그래디언트부스팅함수 작성\n",
        "                                      max_depth=3)\n",
        "gbm_model.fit(X_train, y_train)"
      ]
    },
    {
      "cell_type": "markdown",
      "metadata": {
        "id": "rgTL8ij6vHUR"
      },
      "source": [
        "### 예측"
      ]
    },
    {
      "cell_type": "code",
      "execution_count": 20,
      "metadata": {
        "colab": {
          "base_uri": "https://localhost:8080/"
        },
        "id": "ltmacQYyvGN9",
        "outputId": "806dca46-b520-4822-e5c7-eb5e4320825d"
      },
      "outputs": [
        {
          "name": "stdout",
          "output_type": "stream",
          "text": [
            "13.236124606494242\n"
          ]
        }
      ],
      "source": [
        "gbm_pred = gbm_model.predict(X_test)\n",
        "print(np.power(y_test-gbm_pred,2).mean())"
      ]
    },
    {
      "cell_type": "markdown",
      "metadata": {
        "id": "qPj9Y4gQvRc9"
      },
      "source": [
        "### Partial Dependence Plot"
      ]
    },
    {
      "cell_type": "code",
      "execution_count": 21,
      "metadata": {
        "colab": {
          "base_uri": "https://localhost:8080/",
          "height": 383
        },
        "id": "cN-GfsQIvQFf",
        "outputId": "f8625f89-d6fb-410e-95f8-7783dbe80973"
      },
      "outputs": [
        {
          "data": {
            "image/png": "[encoded data removed]",
            "text/plain": [
              "<Figure size 1200x400 with 4 Axes>"
            ]
          },
          "metadata": {},
          "output_type": "display_data"
        }
      ],
      "source": [
        "#from sklearn.inspection import plot_partial_dependence\n",
        "from sklearn.inspection import PartialDependenceDisplay\n",
        "fig, ax = plt.subplots(figsize=(12,4))\n",
        "ax.set_title('Random forest', fontsize=12)\n",
        "tree_disp = PartialDependenceDisplay.from_estimator(rf_model, X_train, [0,1,[0,1]], ax=ax)"
      ]
    },
    {
      "cell_type": "markdown",
      "metadata": {
        "id": "nPVnIvi3wxwf"
      },
      "source": [
        "### 각 그래프를 해석하시오\n",
        "1.곡선의 형태를 보면 X0가 증가할수록 예측값이 점진적으로 감소하는 경향을 보이고 있다.\n",
        "\n",
        "2.그래프의 형태를 보면 x1이 증가할 때 예측값도 증가하는 경향이 보인다.\n",
        "\n",
        "3.등고선 형태로, x0과 x1이 함께 예측값에 미치는 영향을 시각적으로 표현합니다."
      ]
    },
    {
      "cell_type": "markdown",
      "metadata": {
        "id": "dtWXj3BQvyAj"
      },
      "source": [
        "### Variable Importance Plot"
      ]
    },
    {
      "cell_type": "code",
      "execution_count": 22,
      "metadata": {
        "id": "daXQa7zZyEp7"
      },
      "outputs": [
        {
          "data": {
            "image/png": "[encoded data removed]",
            "text/plain": [
              "<Figure size 640x480 with 1 Axes>"
            ]
          },
          "metadata": {},
          "output_type": "display_data"
        }
      ],
      "source": [
        "importances = rf_model.feature_importances_\n",
        "indices = np.argsort(importances)\n",
        "\n",
        "plt.title('Feature Importances')\n",
        "plt.barh(range(len(indices)), importances[indices], color='b', align='center')\n",
        "plt.yticks(range(len(indices)), [column_names[i] for i in indices])\n",
        "plt.xlabel('Relative Importance')\n",
        "plt.show()"
      ]
    }
  ],
  "metadata": {
    "colab": {
      "provenance": []
    },
    "kernelspec": {
      "display_name": "base",
      "language": "python",
      "name": "python3"
    },
    "language_info": {
      "codemirror_mode": {
        "name": "ipython",
        "version": 3
      },
      "file_extension": ".py",
      "mimetype": "text/x-python",
      "name": "python",
      "nbconvert_exporter": "python",
      "pygments_lexer": "ipython3",
      "version": "3.9.13"
    }
  },
  "nbformat": 4,
  "nbformat_minor": 0
}
